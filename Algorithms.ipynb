{
 "cells": [
  {
   "cell_type": "markdown",
   "metadata": {},
   "source": [
    "#### RSA algorithm in for encryption and decryption.\n",
    "\n",
    "$1$. Choose two primes p and q and let n = pq.\n",
    "\n",
    "$2$.Let e $\\in \\mathbb{Z}$ be positive such that gcd($e,\\phi(n)$) = 1.\n",
    "\n",
    "$3$.Let d $\\in \\mathbb{Z}$ be the multiplicative inverse of $e$ modulo $\\phi(n)$.\n",
    "\n",
    "$4$. Our public key is the pair $(n,e)$ and our private key is the pair $(n,d)$.\n",
    "\n",
    "$5$.For any non-zero integer $m <n$, encrypt $m$ using $c = m^{e}$ (mod $n$).\n",
    "\n",
    "$6$. Decrypt $c$ using $m = c^{d}$ (mod $n)$."
   ]
  },
  {
   "cell_type": "code",
   "execution_count": 5,
   "metadata": {},
   "outputs": [
    {
     "data": {
      "text/html": [
       "<html><script type=\"math/tex; mode=display\">\\newcommand{\\Bold}[1]{\\mathbf{#1}}\\verb|The|\\phantom{\\verb!x!}\\verb|first|\\phantom{\\verb!x!}\\verb|prime|\\phantom{\\verb!x!}\\verb|number|\\phantom{\\verb!x!}\\verb|is| 907524346325870117703408393223</script></html>"
      ],
      "text/latex": [
       "$$\\newcommand{\\Bold}[1]{\\mathbf{#1}}\\verb|The|\\phantom{\\verb!x!}\\verb|first|\\phantom{\\verb!x!}\\verb|prime|\\phantom{\\verb!x!}\\verb|number|\\phantom{\\verb!x!}\\verb|is| 907524346325870117703408393223$$"
      ],
      "text/plain": [
       "'The first prime number is  ' 907524346325870117703408393223"
      ]
     },
     "metadata": {},
     "output_type": "display_data"
    },
    {
     "data": {
      "text/html": [
       "<html><script type=\"math/tex; mode=display\">\\newcommand{\\Bold}[1]{\\mathbf{#1}}\\verb|The|\\phantom{\\verb!x!}\\verb|second|\\phantom{\\verb!x!}\\verb|prime|\\phantom{\\verb!x!}\\verb|number|\\phantom{\\verb!x!}\\verb|is| 576356183333084036865075302913188499431</script></html>"
      ],
      "text/latex": [
       "$$\\newcommand{\\Bold}[1]{\\mathbf{#1}}\\verb|The|\\phantom{\\verb!x!}\\verb|second|\\phantom{\\verb!x!}\\verb|prime|\\phantom{\\verb!x!}\\verb|number|\\phantom{\\verb!x!}\\verb|is| 576356183333084036865075302913188499431$$"
      ],
      "text/plain": [
       "'The second prime number is ' 576356183333084036865075302913188499431"
      ]
     },
     "metadata": {},
     "output_type": "display_data"
    },
    {
     "data": {
      "text/html": [
       "<html><script type=\"math/tex; mode=display\">\\newcommand{\\Bold}[1]{\\mathbf{#1}}\\verb|The|\\phantom{\\verb!x!}\\verb|number|\\phantom{\\verb!x!}\\verb|n|\\phantom{\\verb!x!}\\verb|is| 523057268530230448020856676423563144883463941145700336867482159756113</script></html>"
      ],
      "text/latex": [
       "$$\\newcommand{\\Bold}[1]{\\mathbf{#1}}\\verb|The|\\phantom{\\verb!x!}\\verb|number|\\phantom{\\verb!x!}\\verb|n|\\phantom{\\verb!x!}\\verb|is| 523057268530230448020856676423563144883463941145700336867482159756113$$"
      ],
      "text/plain": [
       "'The number n is ' 523057268530230448020856676423563144883463941145700336867482159756113"
      ]
     },
     "metadata": {},
     "output_type": "display_data"
    },
    {
     "data": {
      "text/html": [
       "<html><script type=\"math/tex; mode=display\">\\newcommand{\\Bold}[1]{\\mathbf{#1}}\\verb|The|\\phantom{\\verb!x!}\\verb|positive|\\phantom{\\verb!x!}\\verb|integer|\\phantom{\\verb!x!}\\verb|e|\\phantom{\\verb!x!}\\verb|is| 126977772899516176733855623895979256593464284479912114044083696068043</script></html>"
      ],
      "text/latex": [
       "$$\\newcommand{\\Bold}[1]{\\mathbf{#1}}\\verb|The|\\phantom{\\verb!x!}\\verb|positive|\\phantom{\\verb!x!}\\verb|integer|\\phantom{\\verb!x!}\\verb|e|\\phantom{\\verb!x!}\\verb|is| 126977772899516176733855623895979256593464284479912114044083696068043$$"
      ],
      "text/plain": [
       "'The positive integer e is ' 126977772899516176733855623895979256593464284479912114044083696068043"
      ]
     },
     "metadata": {},
     "output_type": "display_data"
    }
   ],
   "source": [
    "p = next_prime(randint(10^20,10^30))\n",
    "show(\"The first prime number is  \", p)\n",
    "q = next_prime(randint(10^20,10^39))\n",
    "show(\"The second prime number is \", q)\n",
    "#print(\"\"is_prime(p));is_prime(q)\n",
    "n = p*q\n",
    "show(\"The number n is \", n)\n",
    "e = ZZ.random_element(1,euler_phi(n))\n",
    "show(\"The positive integer e is \", e)"
   ]
  },
  {
   "cell_type": "code",
   "execution_count": 6,
   "metadata": {},
   "outputs": [],
   "source": [
    "while gcd(e,euler_phi(n)) != 1:\n",
    "    e = ZZ.random_element(euler_phi(n))"
   ]
  },
  {
   "cell_type": "code",
   "execution_count": 7,
   "metadata": {},
   "outputs": [
    {
     "name": "stdout",
     "output_type": "stream",
     "text": [
      "The multiplicative inverse of e is  329269701443654438757513642969929592774355233763579810192216372740967\n",
      "The plaintext is  30358125731443561697236741245378737252343705038950303286201037230148\n",
      "The ciphertext is  120177404542769116675254459457238233173276961483188056422508770350501\n",
      "True\n"
     ]
    }
   ],
   "source": [
    "d = inverse_mod(e,euler_phi(n))\n",
    "print(\"The multiplicative inverse of e is \", d)\n",
    "m = ZZ.random_element(n) #plaintext\n",
    "print(\"The plaintext is \", m)\n",
    "ciphertext = power_mod(m,e,n)\n",
    "print(\"The ciphertext is \", ciphertext)\n",
    "print(power_mod(ciphertext,d,n) == m) # checking the decryption is equal to plaintext or not"
   ]
  },
  {
   "cell_type": "markdown",
   "metadata": {},
   "source": [
    "# Primality Testing\n",
    "### Euler's Criterion for Quadratic Residues\n",
    "\n",
    "Let p be an odd prime. Then $a$ is quadratic residue modulo p if and only if $a^{\\frac{p-1}{2}} \\equiv 1$ (mod p)."
   ]
  },
  {
   "cell_type": "code",
   "execution_count": 8,
   "metadata": {},
   "outputs": [
    {
     "name": "stdout",
     "output_type": "stream",
     "text": [
      "1\n"
     ]
    }
   ],
   "source": [
    "p = 293\n",
    "a = 45482\n",
    "print((a**((p-1)/2))%p)"
   ]
  },
  {
   "cell_type": "markdown",
   "metadata": {},
   "source": [
    "So, now a is quadratic residue modulo p."
   ]
  },
  {
   "cell_type": "code",
   "execution_count": 9,
   "metadata": {},
   "outputs": [
    {
     "data": {
      "text/plain": [
       "292"
      ]
     },
     "execution_count": 9,
     "metadata": {},
     "output_type": "execute_result"
    }
   ],
   "source": [
    "a1 = 33354653\n",
    "(a1**((p-1)/2))%p"
   ]
  },
  {
   "cell_type": "markdown",
   "metadata": {},
   "source": [
    "So a1 is not a quadratic rsidue modulo p.\n",
    "\n",
    "\n",
    "### Legendre Symbol $\\left(\\frac{a}{p}\\right)$\n",
    "\n",
    "Suppose  p is an odd prime. For any integer $a$, define the Legendre Symbol $\\left(\\frac{a}{p}\\right)$ as :\n",
    "\n",
    "$\\left(\\frac{a}{p}\\right) = \\begin{cases}\n",
    "0,~~~~~~~ \\mbox{a $\\equiv$ 0 modulo p}\\\\\n",
    "1, ~~~~~~~  \\textrm{a is quadratic residue modulo p}\\\\\n",
    "-1,~~~~~~  \\mbox{a is quadratic non-residue modulo p}\n",
    "\\end{cases}$"
   ]
  },
  {
   "cell_type": "code",
   "execution_count": 17,
   "metadata": {},
   "outputs": [],
   "source": [
    "# function which return a number is quadratic residue or not \n",
    "def quadratic_residue(a,p):\n",
    "    if p.is_prime() == False:\n",
    "        p = p.next_prime()\n",
    "    print(\"The prime number is \", p)\n",
    "    s = legendre_symbol(a,p)\n",
    "    if s==1:\n",
    "        print(f\"{a} is quadratic residue modulo {p}\")\n",
    "    elif s == -1:\n",
    "        print(f\"{a} is quadratic non-residue modulo {p}\")\n",
    "    elif s==0:\n",
    "        print(f\"{a} is congruent to {0}\")"
   ]
  },
  {
   "cell_type": "code",
   "execution_count": 19,
   "metadata": {},
   "outputs": [
    {
     "name": "stdout",
     "output_type": "stream",
     "text": [
      "The prime number is  23\n",
      "25 is quadratic residue modulo 23\n"
     ]
    }
   ],
   "source": [
    "quadratic_residue(25,23)"
   ]
  },
  {
   "cell_type": "markdown",
   "metadata": {},
   "source": [
    "### Solovay-Strassen test\n",
    "\n",
    "**Algorithm :**\n",
    "\n",
    "* input is a positive integer n.\n",
    "\n",
    "* Take a random number $1 \\le a \\le n-1$.\n",
    "\n",
    "* If (a,n) > 1, then n is composite.\n",
    "\n",
    "* Compute $a^{\\frac{n-1}{2}},\\left(\\frac{a}{p}\\right)$.\n",
    "\n",
    "* Check if $a^{\\frac{n-1}{2}}\\not= \\left(\\frac{a}{p}\\right)$(mod n).Then $n$ is composite. \n",
    "\n",
    "* else choose another $a$ and repeat the process."
   ]
  },
  {
   "cell_type": "code",
   "execution_count": 20,
   "metadata": {},
   "outputs": [],
   "source": [
    "import random\n",
    "def solovay_strassen(n):\n",
    "    a = random.randint(1,n-1)\n",
    "    x = kronecker(a,n)\n",
    "    if (x==0):\n",
    "        print(f\"{n} is composite\")\n",
    "    s = ((n-1)/2)\n",
    "    y = (a**s) % n\n",
    "    if (x==y):\n",
    "        print(f\"{n} prime\")\n",
    "    else:\n",
    "         print(f\"{n} is composite\")"
   ]
  },
  {
   "cell_type": "code",
   "execution_count": 21,
   "metadata": {},
   "outputs": [
    {
     "name": "stdout",
     "output_type": "stream",
     "text": [
      "293 is composite\n"
     ]
    }
   ],
   "source": [
    "solovay_strassen(293)"
   ]
  },
  {
   "cell_type": "markdown",
   "metadata": {},
   "source": [
    "###  Miller-Rabin  test\n",
    "\n",
    "If we have factorization for $n-1$, then this test wil work. \n",
    "\n",
    "Goal is to check $n$ is prime or not.\n",
    "\n",
    "Suppose $n-1 = 2^{k}m, k\\ge 1,m$ is odd.\n",
    "Choose a random integer $a, 1 \\le a \\le n-1$.\n",
    "\n",
    "Let $b = a^{m}$(mod $n$). If $b \\equiv 1$(mod $n)$, then $n$ is prime.\n",
    "\n",
    "Take $i = 1$, check if $b \\equiv -1$(mod $n)$, then $n$ is prime. \n",
    "\n",
    "Otherwise $b = b^2$(mod $n)$ and increase $i$ by 1 and repeat the process until $i$ reach $k$."
   ]
  },
  {
   "cell_type": "code",
   "execution_count": 22,
   "metadata": {},
   "outputs": [],
   "source": [
    "# Miller- Rabin test\n",
    "\n",
    "def miller_rabin(n):\n",
    "    if (n <=3) :\n",
    "        raise Exception('n should be greater than 3')\n",
    "    if (n%2 == 0):\n",
    "        return False\n",
    "    # find u odd such that n-1 = 2^k*u\n",
    "    u = n-1\n",
    "    k =0\n",
    "    while(u %2 ==0):\n",
    "        u //= 2\n",
    "        k += 1\n",
    "    a = random.randint(1,n-1) #select a randomly\n",
    "    b = pow(a,u,n)\n",
    "    if (b ==1 or b==n-1): #b==-1 is same as n-1\n",
    "        return True\n",
    "    for j in range(1,k):\n",
    "        b = (b*b)%n\n",
    "        if b == n-1: return True\n",
    "        if b ==1:\n",
    "            return False\n",
    "    return False"
   ]
  },
  {
   "cell_type": "code",
   "execution_count": 23,
   "metadata": {},
   "outputs": [
    {
     "data": {
      "text/plain": [
       "False"
      ]
     },
     "execution_count": 23,
     "metadata": {},
     "output_type": "execute_result"
    }
   ],
   "source": [
    "miller_rabin(3154050820)"
   ]
  },
  {
   "cell_type": "code",
   "execution_count": 24,
   "metadata": {},
   "outputs": [
    {
     "data": {
      "text/plain": [
       "True"
      ]
     },
     "execution_count": 24,
     "metadata": {},
     "output_type": "execute_result"
    }
   ],
   "source": [
    "miller_rabin(40530101879)"
   ]
  },
  {
   "cell_type": "markdown",
   "metadata": {},
   "source": [
    "**Pollard P-1 method :**\n",
    "\n",
    "In this algorithm has two inputs : the integer $n$ to be factorized and a prespecified bound B. \n",
    "\n",
    "$1$. Set $a = 2$, generally we choose this, another convenient $a$.\n",
    "\n",
    "$2$. Take $j = 2,3,\\cdots, B$ and compute $a =a^{j}$(mod $n$).\n",
    "\n",
    "$3$. compute $d = (a-1,n)$ where $(,)$ denotes gcd of two numbers.\n",
    "\n",
    "$4$. If $1 < d< n$, then $d$ is a divisor of $n$ and return $d$.\n",
    "\n",
    "$5$. Otherwise keep on increasing $j$ upto B. Otherwise we can change the value of $a$.\n",
    "\n",
    "Once we get one factor $d$ of $n$, easily we can compute other factor by $\\frac{n}{d}$."
   ]
  },
  {
   "cell_type": "code",
   "execution_count": 30,
   "metadata": {},
   "outputs": [],
   "source": [
    "def Pollard_algo(n,B):\n",
    "    a = 2  # generally we choose a = 2\n",
    "    for j in range(2,B,1):\n",
    "        a = (a**j)%n\n",
    "        d = gcd(a-1,n)\n",
    "        if (1 < d < n) and (d.is_prime() == True):\n",
    "            pass\n",
    "    return d"
   ]
  },
  {
   "cell_type": "code",
   "execution_count": 31,
   "metadata": {},
   "outputs": [
    {
     "data": {
      "text/plain": [
       "625 loops, best of 3: 742 μs per loop"
      ]
     },
     "execution_count": 31,
     "metadata": {},
     "output_type": "execute_result"
    }
   ],
   "source": [
    "timeit('Pollard_algo(15770708441,180)')"
   ]
  },
  {
   "cell_type": "code",
   "execution_count": 32,
   "metadata": {},
   "outputs": [
    {
     "data": {
      "text/plain": [
       "135979"
      ]
     },
     "execution_count": 32,
     "metadata": {},
     "output_type": "execute_result"
    }
   ],
   "source": [
    "d1 = Pollard_algo(15770708441,180) #example is taken from book\n",
    "d1"
   ]
  },
  {
   "cell_type": "code",
   "execution_count": 33,
   "metadata": {},
   "outputs": [
    {
     "data": {
      "text/plain": [
       "135979"
      ]
     },
     "execution_count": 33,
     "metadata": {},
     "output_type": "execute_result"
    }
   ],
   "source": [
    "d1"
   ]
  },
  {
   "cell_type": "code",
   "execution_count": 34,
   "metadata": {},
   "outputs": [
    {
     "data": {
      "text/plain": [
       "2 * 3 * 131 * 173"
      ]
     },
     "execution_count": 34,
     "metadata": {},
     "output_type": "execute_result"
    }
   ],
   "source": [
    "factor(d1-1)"
   ]
  },
  {
   "cell_type": "markdown",
   "metadata": {},
   "source": [
    "since d1-1 has highest factor 173, so for any integer greater than 173, d1-1 will divide the factorial(B)."
   ]
  },
  {
   "cell_type": "code",
   "execution_count": 35,
   "metadata": {},
   "outputs": [
    {
     "data": {
      "text/plain": [
       "0"
      ]
     },
     "execution_count": 35,
     "metadata": {},
     "output_type": "execute_result"
    }
   ],
   "source": [
    "(d1-1)//(factorial(180))"
   ]
  },
  {
   "cell_type": "code",
   "execution_count": 36,
   "metadata": {},
   "outputs": [
    {
     "data": {
      "text/plain": [
       "115979"
      ]
     },
     "execution_count": 36,
     "metadata": {},
     "output_type": "execute_result"
    }
   ],
   "source": [
    "d2 = 15770708441//d1\n",
    "d2"
   ]
  },
  {
   "cell_type": "markdown",
   "metadata": {},
   "source": [
    "So, $d1,d2$ are two factors of given $n = 15770708441$."
   ]
  },
  {
   "cell_type": "markdown",
   "metadata": {},
   "source": [
    "In the Pollard $p-1$ method, there are $B-1$ modular exponentiations, each requiring at most $2log_{2}B$ modular multiplications using the 'square and multiply algorithm'. The gcd can be computed in time $O((logn)^3)$ using the 'extended euclidean algorithm.Hence the complexity of the algorithm is $O(BlogB(logn)^2 + (logn)^3)$.  \n",
    "\n",
    "If the integer $O((logn)^i)$ for a fixed integer $i$, then the algorithm isindeed a polynomial-time algorithm(as a function of $log(n)$). \n",
    "\n",
    "However, for such a choice of $B$, the probability of success will be very small. On the other hand, if we increase the value of $B$,then this algorithm guaranteed to be successful but it's speed will be decreased.\n",
    "\n",
    "The drawback of this method is that it requires a prime factor $p$ such that $p-1$ has only small prime factors."
   ]
  },
  {
   "cell_type": "markdown",
   "metadata": {},
   "source": [
    "**Pollard Rho method :**\n",
    "\n",
    "We want to factor a integer $n$.\n",
    "\n",
    "Let S be a finite  set and take a function $f : S \\to S$. Choose $s_{0} \\in S$, compute $s_{i+1} = f(s_{i})  \\forall i = 1,2,\\cdots$.\n",
    "\n",
    "Store those values of the sequence in a list. Since S is finite, then $s_{i} \\equiv s_{j}$(mod $n)$. Using the fact that, $f$ is polynomial function of integer coefficients, then we get $f(s_{i}) \\equiv f(s_{j})$(mod $n$). so,  $s_{i+1}=s_{i+2}$(mod $n)$.\n",
    "So $\\exists, s_{i} \\equiv s_{2i}$(mod $n)$. Then $(s_{i}-s_{2i},n) = d$, is the non-trivial factor of $n$."
   ]
  },
  {
   "cell_type": "code",
   "execution_count": 37,
   "metadata": {},
   "outputs": [],
   "source": [
    "def f(x):\n",
    "    return x**2  + x +1\n",
    "def Pollard_rho(n):\n",
    "    seed = 2\n",
    "    X = [seed,f(seed)%n] #1st is s0, 2nd one is s1\n",
    "    X.append(f(X[1])%n) #append s2\n",
    "    k = 1\n",
    "    while gcd(X[2*k] - X[k],n) ==1:\n",
    "        for j in range(2):\n",
    "            X.append(f(X[2*k +j])%n)\n",
    "        k += 1\n",
    "    outfact = gcd(X[2*k] - X[k],n)\n",
    "    print([outfact,n/outfact])"
   ]
  },
  {
   "cell_type": "code",
   "execution_count": 38,
   "metadata": {},
   "outputs": [
    {
     "name": "stdout",
     "output_type": "stream",
     "text": [
      "[613, 743]\n"
     ]
    }
   ],
   "source": [
    "Pollard_rho(455459)"
   ]
  },
  {
   "cell_type": "markdown",
   "metadata": {},
   "source": [
    "## Elgamal Cryptosystem\n",
    "\n",
    "Suppose Alice  wants to send a message $x$ to Bob. \n",
    "\n",
    "From Bob's side there will be the key generation algorithm. \n",
    "\n",
    "**key generation algorithm :**\n",
    "\n",
    "* Choose a large prime p.\n",
    "\n",
    "* Choose a generator or primitive root $\\alpha$.\n",
    "\n",
    "* Choose $d \\in \\{2,3,\\cdots,p-2 \\}$, compute $\\beta = {\\alpha}^d ($mod$p)$. \n",
    "\n",
    "Now Alice will choose $i \\in \\{2,3,\\cdots,p-2\\}$ and then compute $k_{e} = {\\alpha}^{i}($mod$p)$. After that, compute the massking key $k_{m} = {\\beta}^{i}($mod$p)$. \n",
    "\n",
    "**Encryption function :**\n",
    "\n",
    "$E(x) = x \\times {\\alpha}^{i}($mod$p) = y$,say. The ciphertext is the orderd-pair $(k_{e},y)$ to be send to Bob from Alice. \n",
    "\n",
    "**Decryption process :**\n",
    "\n",
    "For decryption first Bob will compute $k_{m} = {(k_{e})}^{d}$. Then $D(x) = (y.(k_{m})^{-1})$(mod $p)$, that should be equal to $x$."
   ]
  },
  {
   "cell_type": "code",
   "execution_count": 39,
   "metadata": {},
   "outputs": [
    {
     "data": {
      "text/html": [
       "<html><script type=\"math/tex; mode=display\">\\newcommand{\\Bold}[1]{\\mathbf{#1}}10</script></html>"
      ],
      "text/latex": [
       "$$\\newcommand{\\Bold}[1]{\\mathbf{#1}}10$$"
      ],
      "text/plain": [
       "10"
      ]
     },
     "metadata": {},
     "output_type": "display_data"
    },
    {
     "data": {
      "text/html": [
       "<html><script type=\"math/tex; mode=display\">\\newcommand{\\Bold}[1]{\\mathbf{#1}}23</script></html>"
      ],
      "text/latex": [
       "$$\\newcommand{\\Bold}[1]{\\mathbf{#1}}23$$"
      ],
      "text/plain": [
       "23"
      ]
     },
     "metadata": {},
     "output_type": "display_data"
    },
    {
     "data": {
      "text/html": [
       "<html><script type=\"math/tex; mode=display\">\\newcommand{\\Bold}[1]{\\mathbf{#1}}11</script></html>"
      ],
      "text/latex": [
       "$$\\newcommand{\\Bold}[1]{\\mathbf{#1}}11$$"
      ],
      "text/plain": [
       "11"
      ]
     },
     "metadata": {},
     "output_type": "display_data"
    },
    {
     "name": "stdout",
     "output_type": "stream",
     "text": [
      "8\n"
     ]
    },
    {
     "data": {
      "text/html": [
       "<html><script type=\"math/tex; mode=display\">\\newcommand{\\Bold}[1]{\\mathbf{#1}}27</script></html>"
      ],
      "text/latex": [
       "$$\\newcommand{\\Bold}[1]{\\mathbf{#1}}27$$"
      ],
      "text/plain": [
       "27"
      ]
     },
     "metadata": {},
     "output_type": "display_data"
    },
    {
     "data": {
      "text/html": [
       "<html><script type=\"math/tex; mode=display\">\\newcommand{\\Bold}[1]{\\mathbf{#1}}13</script></html>"
      ],
      "text/latex": [
       "$$\\newcommand{\\Bold}[1]{\\mathbf{#1}}13$$"
      ],
      "text/plain": [
       "13"
      ]
     },
     "metadata": {},
     "output_type": "display_data"
    },
    {
     "data": {
      "text/html": [
       "<html><script type=\"math/tex; mode=display\">\\newcommand{\\Bold}[1]{\\mathbf{#1}}14</script></html>"
      ],
      "text/latex": [
       "$$\\newcommand{\\Bold}[1]{\\mathbf{#1}}14$$"
      ],
      "text/plain": [
       "14"
      ]
     },
     "metadata": {},
     "output_type": "display_data"
    },
    {
     "name": "stdout",
     "output_type": "stream",
     "text": [
      "1\n"
     ]
    },
    {
     "data": {
      "text/html": [
       "<html><script type=\"math/tex; mode=display\">\\newcommand{\\Bold}[1]{\\mathbf{#1}}8</script></html>"
      ],
      "text/latex": [
       "$$\\newcommand{\\Bold}[1]{\\mathbf{#1}}8$$"
      ],
      "text/plain": [
       "8"
      ]
     },
     "metadata": {},
     "output_type": "display_data"
    },
    {
     "data": {
      "text/plain": [
       "True"
      ]
     },
     "execution_count": 39,
     "metadata": {},
     "output_type": "execute_result"
    }
   ],
   "source": [
    "import random;\n",
    "p = 29;alpha = 2;\n",
    "l = list(range(2,p-2,1)) # create the list by  the elements 2 ,3,..29\n",
    "d = l[random.randrange(len(l))] # selecting the random element\n",
    "beta = pow(alpha,d,p)\n",
    "show(beta)\n",
    "show(d)\n",
    "x  =l[random.randrange(len(l))] #26 # message is also belong to Z_29*\n",
    "i = l[random.randrange(len(l))]\n",
    "k_e = power_mod(alpha,i,p)\n",
    "show(k_e)\n",
    "print(x)\n",
    "massking_key = power_mod(beta,i,p)\n",
    "show(massking_key)\n",
    "encryption = (x*pow(alpha,d*i,p))%p\n",
    "ciphertext = (massking_key,encryption)\n",
    "show(encryption)\n",
    "km_inv = pow(massking_key,-1,p)\n",
    "show(km_inv)\n",
    "print(pow(massking_key*km_inv,1,p))\n",
    "decryption = pow(encryption*km_inv,1,p)\n",
    "show(decryption)\n",
    "decryption == x"
   ]
  },
  {
   "cell_type": "markdown",
   "metadata": {},
   "source": [
    "Algorithm of Baby-Steps,Giant steps for solving discrete logarithm problem :\n",
    "\n",
    "that is we need to find $x$ such that $y = g^{x}$(mod $p)$ for an odd prime $p$. Let $m = \\lceil x \\rceil$.\n",
    "\n",
    "So, now $y = g^{x} = g^{im}\\circ g^{j}$(mod $p)$ imples that $y.g^{-i.m} = g^{j}$(mod $p$).\n",
    "\n",
    "In Baby steps, we compute $g^{j}$ for $j \\in \\{0,1,\\cdots m-1\\}$.Store it in a list,named X.\n",
    "\n",
    "In Giant steps, we compute $y.g^{-i.m}$ for $i \\in \\{0,1,\\cdots m-1\\}$.Store it in an another list,named Y.\n",
    "\n",
    "Then look for those indices $i_{0},j_{0}$ of X and Y respectively where $X[i_{0}]$ is same as $Y[j_{0}]$. Then our desired $x$ will be $x = i + j\\times m$\n",
    "\n"
   ]
  },
  {
   "cell_type": "code",
   "execution_count": 40,
   "metadata": {},
   "outputs": [],
   "source": [
    "def bs_gs(p,alpha,beta):\n",
    "    m = ceil(sqrt(p-1))\n",
    "    inv_m = power_mod(alpha,-1,p)\n",
    "    X = []\n",
    "    # baby steps\n",
    "    for j in range(m):\n",
    "        X.append(pow(alpha,j,p))\n",
    "    # giant steps\n",
    "    Y=[]\n",
    "    for i in range(m):\n",
    "        y = (22*pow(inv_m,i*m,p))%p\n",
    "        Y.append(y)    \n",
    "    X_set=set(X)  \n",
    "    Y_set=set(Y)\n",
    "    common=list(X_set.intersection(Y_set))\n",
    "    temp_X=0\n",
    "    for i in range(len(X)):\n",
    "        if X[i]==common[0]:\n",
    "            temp_X=i\n",
    "            break\n",
    "        else:\n",
    "            pass\n",
    "    \n",
    "    temp_Y=0\n",
    "    for i in range(len(Y)):\n",
    "        if Y[i]==common[0]:\n",
    "            temp_Y=i\n",
    "            break\n",
    "        else:\n",
    "            pass\n",
    "    \n",
    "    return (temp_X + m*temp_Y)%(p-1)"
   ]
  },
  {
   "cell_type": "code",
   "execution_count": 41,
   "metadata": {},
   "outputs": [
    {
     "data": {
      "text/plain": [
       "31"
      ]
     },
     "execution_count": 41,
     "metadata": {},
     "output_type": "execute_result"
    }
   ],
   "source": [
    "bs_gs(37,2,5)"
   ]
  },
  {
   "cell_type": "markdown",
   "metadata": {},
   "source": [
    "### Pollard Rho method for DLP\n",
    "In **Pollard Rho method** for **DLP(Discrete Logarithm Problem)** , First we partitioned the Group into three sets $S_{0},S_1,S_2$ of roughly equal size.\n",
    "\n",
    "For example, $1 \\notin S_1$, then by choosing $x_0 = 1$, we define a sequence of group elements $x_0,x_1,x_2,\\cdots$ by $x_{i+1} = \n",
    "\\begin{cases}\n",
    "\\alpha.x_{i} ~~~~~, x_{i} \\in S_0\\\\\n",
    "{x_{i}}^2 ~~~~~~~~, x_{i} \\in S_1\\\\\n",
    "\\beta.x_{i} ~~~~~~, x_{i} \\in S_2\n",
    "\\end{cases}$ for $i  \\ge 0$.\n",
    "\n",
    "This sequence of group elements $x_0,x_1,x_2,\\cdots$ turn out to define two more sequences of integers $a_0,a_1,\\cdots$ and $b_0,b_1,b_2,\\cdots$ satisfying $x_{i} = {\\alpha}^{a_{i}}{\\beta}^{b_{i}}$ for $i \\ge 0$.  So, $a_0 = 0, b_0 = 0$,  for $i \\ge 0$,\n",
    "$a_{i+1} = \n",
    "\\begin{cases}\n",
    "a_{i} +1 ~~~~~~, a_{i} \\in S_0\\\\\n",
    "2{a_{i}} ~~~~~~, a_{i} \\in S_1\\\\\n",
    "a_{i} ~~~~~~~~~, a_{i} \\in S_2\n",
    "\\end{cases}$\n",
    "and \n",
    "$b_{i+1} = \n",
    "\\begin{cases}\n",
    "b_{i} , b_{i} \\in S_0\\\\\n",
    "2{b_{i}} , b_{i} \\in S_1\\\\\n",
    "b_{i}+1 , x_{i} \\in S_2\n",
    "\\end{cases}$.\n",
    "\n",
    "We continue finding the finding the tripets $(x_i,a_i,b_i)$ and $x_{2i},a_{2i},b_{2i}$ until $x_i = x_{2i}$. After ending this process,let's take $g_1 = a_i - a_{2i}$ mod$(p-1)$ and $h_1 = b_{2i} - b_{i}$(mod $p-1)$.\n",
    "\n",
    "If $h_1 \\equiv 0$( mod $p-1)$, then the algorithm fails. Let it is not. Then compute $d = \\text{gcd}(h1,p-1)$ and also find $s,t$ such that $d = s.h_1 + t(p-1)$.\n",
    "\n",
    "Now, find that particular $w$ for which $g^{x} \\equiv h$(mod $p$) and $x = \\frac{su  + (p-1)w}{d}$mod ($p-1)$."
   ]
  },
  {
   "cell_type": "code",
   "execution_count": 42,
   "metadata": {},
   "outputs": [],
   "source": [
    "def Pollard_rho_dlp(g,h,p):\n",
    "    S0 = [k for k in [0..p//3]] #define the three set s0\n",
    "    S1 = [k for k in [p//3+1..2*p//3]]  #define  the set s1\n",
    "    S2 = [k for k in [2*p//3+1..p-1]]  # define the set s2\n",
    "    T1 = [1,0,0] #x0,a0,b0 i.e x_(i-1),a_(i-1),b_(i-1)\n",
    "    T2 = [1,0,0] # x_(2i-2),a_(2i-2),b_(2i-2)\n",
    "    def w(t):\n",
    "        if t[0] in S0: #t is the values  of x,a,b\n",
    "            return [(g*t[0])%p,(t[1]+1)%(p-1),t[2]] #(alpha.x,a +1 mod p-1,b)\n",
    "        elif t[0] in S1:\n",
    "            return [t[0]^2,(2*t[1])%(p-1),(2*t[2])%(p-1)] #(x^2,2a mod p-1,2b mod p-1)\n",
    "        else:\n",
    "             return [(h*t[0])%p,t[1],(t[2]+1)%(p-1)] #(beta.x, a,b+1 mod p-1)\n",
    "    \n",
    "    jo = True\n",
    "    while jo:\n",
    "        T1 = w(T1)\n",
    "        T2 = w(w(T2))\n",
    "        if T1[0] == T2[0]:\n",
    "            jo = False\n",
    "    \n",
    "    \n",
    "    g1 = (T1[1] - T2[1])%(p-1) # (a_i - a_2i) mod (p-1)\n",
    "    h1 = (T2[2]-T1[2])%(p-1) # (b_2i - b_i) mod (p-1)\n",
    "    d,s,t = xgcd(h1,p-1)\n",
    "    possibly = [((s*g1 + i*(p-1))/d)%(p-1) for i in [0..d-1]] #list of possible solutons\n",
    "    sol0= [j for j in possibly if (g^j)%p == h]\n",
    "    return sol0[0]\n",
    "    \n",
    "        "
   ]
  },
  {
   "cell_type": "code",
   "execution_count": 43,
   "metadata": {},
   "outputs": [
    {
     "data": {
      "text/plain": [
       "97"
      ]
     },
     "execution_count": 43,
     "metadata": {},
     "output_type": "execute_result"
    }
   ],
   "source": [
    "Pollard_rho_dlp(3,200,283)"
   ]
  },
  {
   "cell_type": "code",
   "execution_count": 44,
   "metadata": {},
   "outputs": [
    {
     "data": {
      "text/plain": [
       "10"
      ]
     },
     "execution_count": 44,
     "metadata": {},
     "output_type": "execute_result"
    }
   ],
   "source": [
    "Pollard_rho_dlp(2,5,1019)"
   ]
  },
  {
   "cell_type": "markdown",
   "metadata": {},
   "source": [
    "### Index calculas method\n",
    "\n",
    "The Index calculas algorithm is used to solve the discrete logarithm problem $a^x \\equiv b$( mod$p)$. First we fix a factor base $B = \\{p_1,p_2,\\cdots,p_{k}\\}$ containing small primes. Consider a sequence $x_1,x_2,\\cdots$ of distinct primes from the set $\\{0,1,\\cdots,p-2\\}$. \n",
    "\n",
    "Compute $a^{x_{i}}$(mod $p$).and check if the resulting value is only divisible by primes from the set $B$ i.e. $a^{x_{i}} \\equiv {p_1}^{u_{i1}}{p_2}^{u_{i2}}\\cdots{p_{k}}^{u_{ik}}$(mod $p$).If this is found, then we take `log` in both sides of the above expression,we get $x_{i} \\equiv u_{i1}log_{a}(p_1) + u_{i2}log_{a}(p_2) + \\cdots + u_{ik}log_{a}(p_k)$mod $(p-1)$.\n",
    "\n",
    "This gives a linear equation  in the unknows $log_{a}(p_1),\\cdots log_{a}(p_k)$. Here we have $k$ many unknows. So, we need to solve  the linear equations.\n",
    "\n",
    "Finally, we select random integers $m \\in \\{0,1,\\cdots,p-2\\}$ and compute $a^{m}b$ mod ($p)$, if it is divisible by primes in $B$, then $log_{a}(b) + m \\equiv m_{i1}log_{a}(p_1) + m_{i2}log_{a}(p_2) + \\cdots + m_{ik}log_{a}(p_{k})$ mod ($p-1)$. Hence,\n",
    "\n",
    "$log_{a}(b)  \\equiv m_{i1}log_{a}(p_1) + m_{i2}log_{a}(p_2) + \\cdots + m_{ik}log_{a}(p_{k}) - m$ mod ($p-1)$."
   ]
  },
  {
   "cell_type": "code",
   "execution_count": 45,
   "metadata": {},
   "outputs": [],
   "source": [
    "# B is the factor base\n",
    "def Index_calculas(a,b,p,B): # find the integer n such that b = a^n\n",
    "    S = Set([0..p-2]) #define the set 0,1,p-2\n",
    "    pd = prime_divisors(p-1) #it return the list of prime divisors\n",
    "    T = True\n",
    "    M = []\n",
    "    V =[]\n",
    "    dimM = 0\n",
    "    while T:\n",
    "        xi = S.random_element()\n",
    "        S = S.difference(Set([xi]))\n",
    "        q = [valuation((a^xi)%p,k) for k in B] #valuation(b,a) is compute for which integer n such that  a^n =b\n",
    "        if prod([k^valuation((a^xi)%p,k) for k in B]) == (a^xi)%p:\n",
    "            M0 = M + [q]\n",
    "            \n",
    "            if all(Matrix(GF(x),M0).rank() == dimM+1 for x in pd):\n",
    "                M.append(q)\n",
    "                V.append(xi)\n",
    "                dimM = dimM +1\n",
    "            else:\n",
    "                pass\n",
    "        if dimM == len(B):\n",
    "            T = False\n",
    "    LOGs = matrix(Integers(p-1),M).inverse()*vector(V)\n",
    "    S = Set([0..p-2])\n",
    "    T = True\n",
    "    while T:\n",
    "        xi = S.random_element()\n",
    "        S = S.difference(Set([xi]))\n",
    "        q = [valuation((a^xi*b)%p,k) for k in B] \n",
    "        if prod([k^valuation((a^xi*b)%p,k) for k in B]) == (a^xi*b)%p:\n",
    "            DL = (sum(q[k]*LOGs[k] for k in [0..len(q)-1]) -xi)%(p-1)\n",
    "            return DL\n",
    "        \n",
    "    "
   ]
  },
  {
   "cell_type": "code",
   "execution_count": 46,
   "metadata": {},
   "outputs": [
    {
     "data": {
      "text/plain": [
       "588"
      ]
     },
     "execution_count": 46,
     "metadata": {},
     "output_type": "execute_result"
    }
   ],
   "source": [
    "Index_calculas(3,37,1217,[2,3,5,7,11])"
   ]
  },
  {
   "cell_type": "code",
   "execution_count": 47,
   "metadata": {},
   "outputs": [
    {
     "data": {
      "text/plain": [
       "41"
      ]
     },
     "execution_count": 47,
     "metadata": {},
     "output_type": "execute_result"
    }
   ],
   "source": [
    "Index_calculas(2,37,131,[2,3,5,7])"
   ]
  },
  {
   "cell_type": "markdown",
   "metadata": {},
   "source": [
    "### Pohlig-Hellman algorithm\n",
    "\n",
    "Suppose we have a group $G = <g>$ such that ord(g) = N = $\\prod_{k =1}^{n}{p_K}^{e_k}$ for some primes $p_1,p_2,\\cdots,p_n$ and positive integers $e_1,e_2,\\cdots,e_n$. Our goal is to find an $x$ for which $g^x = h$. Instead of solving this , first we try to compute $x $(mod ${p_i}^{e_i}$, then apply chinese remainder theorem to obtain $x$ mod($N$). So, we need to solve DLP in\n",
    "$C_{{p_{i}}^{e_i}}$, where $C_{{p_{i}}^{e_i}}$ is the  cyclic group of order ${p_i}^{e_i}$. So, for all prime divisors of N, we get a system of congruences \n",
    "\n",
    "$x \\equiv x_1$mod(${p_1}^{e_1})$\n",
    "\n",
    "$x \\equiv x_2$mod(${p_2}^{e_2})$\n",
    "\n",
    "$\\vdots$\n",
    "\n",
    "$x \\equiv x_n$mod(${p_n}^{e_n})$\n",
    "\n",
    "By applying CRT, we get the solution for the system of linear congruence equations  $x$ mod(${p_1}^{e_1}{p_2}^{e_2}\\cdots{p_n}^{e_n}) = N$.\n",
    "\n",
    "So, we need to only solve the DLP in $C_{{p}^{e}}$. \n",
    "\n",
    "Let we want to determine $x$ for which $g^x = h$ in $C_{{p}^{e}}$. Let $x = b_0 + b_1 p + b_2 p^2 + \\cdots + b_{e-1}p^{e-1}$.\n",
    "\n",
    "In recurrent way,,let $x \\equiv b_0 + b_1 p + b_2 p^2 + \\cdots + b_{k-1}p^{k-1}$mod ($p^k)$ for $0 \\le k \\le e-1$. Then $x \\equiv x_k + b_k p^k$mod($p^{k+1})$, that means  $h = g^{x_k}(g^{p^k})^{b_k}$.\n",
    "\n",
    "Let $h_k = hg^{-x_k}$ and $g_k = g^{p^k}$. Hence, the reduced DLP is $h_k = {g_k}^{b_k}$."
   ]
  },
  {
   "cell_type": "code",
   "execution_count": 48,
   "metadata": {},
   "outputs": [],
   "source": [
    "def Pohlig_hellman(g,h,p):\n",
    "    F = GF(p) # group of finite field of order p\n",
    "    g1 = F(g) # return element g1 mod p\n",
    "    h1 = F(h) # return element h1 mod p\n",
    "    N = p-1\n",
    "    qi = [r^N.valuation(r) for r in prime_divisors(N)]\n",
    "    lqi = len(qi)\n",
    "    Nqi = [N/q for q in qi]\n",
    "    gi = [g1^r for r in Nqi]\n",
    "    hi = [h1^r for r in Nqi]\n",
    "    xi = [discrete_log(hi[i],gi[i]) for i in range(lqi)]\n",
    "    x = CRT(xi,qi)\n",
    "    return x"
   ]
  },
  {
   "cell_type": "code",
   "execution_count": 49,
   "metadata": {},
   "outputs": [
    {
     "data": {
      "text/plain": [
       "9801"
      ]
     },
     "execution_count": 49,
     "metadata": {},
     "output_type": "execute_result"
    }
   ],
   "source": [
    "Pohlig_hellman(2,33,next_prime(12344))"
   ]
  },
  {
   "cell_type": "code",
   "execution_count": null,
   "metadata": {},
   "outputs": [],
   "source": []
  }
 ],
 "metadata": {
  "kernelspec": {
   "display_name": "SageMath 9.3",
   "language": "sage",
   "name": "sagemath"
  },
  "language_info": {
   "codemirror_mode": {
    "name": "ipython",
    "version": 3
   },
   "file_extension": ".py",
   "mimetype": "text/x-python",
   "name": "python",
   "nbconvert_exporter": "python",
   "pygments_lexer": "ipython3",
   "version": "3.7.10"
  }
 },
 "nbformat": 4,
 "nbformat_minor": 4
}
