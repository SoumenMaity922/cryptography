{
 "cells": [
  {
   "cell_type": "markdown",
   "metadata": {},
   "source": [
    "ASCII codes\n",
    "\n",
    "In Binary Strings:                     \n",
    "        \n",
    "    a   | 01100001   A  01000001   spacebar  00100000   ?   00111111\n",
    "    b   | 01100010   B  01000010   +         00101011   |   01111100\n",
    "    c   | 01100011   C  01000011   -         00101101\n",
    "    d   | 01100100   D  01000100   *         00101010\n",
    "    e   | 01100101   E  01000101   /         00101111\n",
    "    f   | 01100110   F  01000110   .         00101110\n",
    "    g   | 01100111   G  01000111   0         00110000\n",
    "    h   | 01101000   H  01001000   1         00110001\n",
    "    i   | 01101001   I  01001001   2         00110010\n",
    "    j   | 01101010   J  01001010   3         00110011\n",
    "    k   | 01101011   K  01001011   4         00110100\n",
    "    l   | 01101100   L  01001100   5         00110101\n",
    "    m   | 01101101   M  01001101   6         00110110\n",
    "    n   | 01101110   N  01001110   7         00110111\n",
    "    o   | 01101111   O  01001111   8         00111000\n",
    "    p   | 01110000   P  01010000   9         00111001\n",
    "    q   | 01110001   Q  01010001   !         00100001\n",
    "    r   | 01110010   R  01010010   @         01000000\n",
    "    s   | 01110011   S  01010011   #         00100011\n",
    "    t   | 01110100   T  01010100   $         00100100\n",
    "    u   | 01110101   U  01010101   %         00100101\n",
    "    v   | 01110110   V  01010110   ^         01011110\n",
    "    w   | 01110111   W  01010111   <         00111100\n",
    "    x   | 01111000   X  01011000   >         00111110\n",
    "    y   | 01111001   Y  01011001   &         00100110\n",
    "    z   | 01111010   Z  01011010   ,         00101100"
   ]
  },
  {
   "cell_type": "markdown",
   "metadata": {},
   "source": [
    "In Hexadecimal Strings:                     \n",
    "        \n",
    "    a   61   A  41   spacebar 20    ?   3f\n",
    "    b   62   B  42   +         2b   |   7c\n",
    "    c   63   C  43   -         2d\n",
    "    d   64   D  44   *         2a\n",
    "    e   65   E  45   /         2f\n",
    "    f   66   F  46   .         2e\n",
    "    g   67   G  47   0         30\n",
    "    h   68   H  48   1         31\n",
    "    i   69   I  49   2         32\n",
    "    j   6a   J  4a   3         33\n",
    "    k   6b   K  4b   4         34\n",
    "    l   6c   L  4c   5         35\n",
    "    m   6d   M  4d   6         36\n",
    "    n   6e   N  4e   7         37\n",
    "    o   6f   O  4f   8         38\n",
    "    p   70   P  50   9         39\n",
    "    q   71   Q  51   !         21\n",
    "    r   72   R  52   @         40\n",
    "    s   73   S  53   #         23\n",
    "    t   74   T  54   $         24\n",
    "    u   75   U  55   %         25\n",
    "    v   76   V  56   ^         5e\n",
    "    w   77   W  57   <         3c\n",
    "    x   78   X  58   >         3e\n",
    "    y   79   Y  59   &         26\n",
    "    z   7a   Z  5a   ,         2c"
   ]
  },
  {
   "cell_type": "markdown",
   "metadata": {},
   "source": [
    "For Alphabetic Strings. if we want to encode a small letter, it encode that by its corresponding capital letter, & for capital letter remains same whereas if we input any other symbols, it does not give anything."
   ]
  },
  {
   "cell_type": "code",
   "execution_count": null,
   "metadata": {},
   "outputs": [],
   "source": []
  }
 ],
 "metadata": {
  "kernelspec": {
   "display_name": "SageMath 9.3",
   "language": "sage",
   "name": "sagemath"
  },
  "language_info": {
   "codemirror_mode": {
    "name": "ipython",
    "version": 3
   },
   "file_extension": ".py",
   "mimetype": "text/x-python",
   "name": "python",
   "nbconvert_exporter": "python",
   "pygments_lexer": "ipython3",
   "version": "3.7.10"
  }
 },
 "nbformat": 4,
 "nbformat_minor": 4
}
