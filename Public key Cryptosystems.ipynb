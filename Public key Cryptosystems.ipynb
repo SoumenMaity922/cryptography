{
 "cells": [
  {
   "cell_type": "markdown",
   "metadata": {},
   "source": [
    "**Shift Cipher**\n",
    "\n",
    "For this cryptosystem $\\mathcal{{P} = {C} = {K}} = {\\mathbb{Z}_{26}}$.  So, the possible keys $k$ are $0 \\le k \\le 25 k$. \n",
    "* Encryption rule is $e_{k}(x) = (x + k)$ mod $26$.\n",
    "\n",
    "* Decrytion rule is $d_{k}(y) = (y-k)$ mod $26$\n",
    "\n",
    "  where $x$ is the plaintext & $y$ is ciphertext.\n",
    "  \n",
    "**In Particular**, for $k = 3$, we called the cryptosystem as Casear cipher."
   ]
  },
  {
   "cell_type": "code",
   "execution_count": 19,
   "metadata": {},
   "outputs": [
    {
     "name": "stdout",
     "output_type": "stream",
     "text": [
      "The public key cryptosystem is  Shift cryptosystem on Free alphabetic string monoid on A-Z\n",
      "The encoded string is  WEWILLMEETATMIDNIGHT\n",
      "The ciphertext of the plain text is  LTLXAABTTIPIBXSCXVWI\n",
      "The decryption of the ciphertext is  WEWILLMEETATMIDNIGHT\n"
     ]
    }
   ],
   "source": [
    "S = ShiftCryptosystem(AlphabeticStrings())\n",
    "print(\"The public key cryptosystem is \", S)\n",
    "# S.key_space() #by this we can find key_space() of the corresponding cryptosystem\n",
    "\n",
    "#S.alphabet_size() # this will tells us how many elements are there in the corresponding cryptosystem\n",
    "P = S.encoding(\"we will meet at midnight\"); # this is just encoding the string monoid over the shift cipher S \n",
    "print(\"The encoded string is \", P)\n",
    "#K = 11 #secret key must be lies between 0 to 25\n",
    "key = S.random_key()  #, using this command we can also generate  random key within this cipher key space.This can be done for every cryptosystem.\n",
    "C = S.enciphering(key,P) #encrypting the given plaintext\n",
    "print(\"The ciphertext of the plain text is \", C)\n",
    "D = S.deciphering(key,C); #decrypt the plaintext\n",
    "print(\"The decryption of the ciphertext is \", D)"
   ]
  },
  {
   "cell_type": "code",
   "execution_count": 13,
   "metadata": {},
   "outputs": [
    {
     "name": "stdout",
     "output_type": "stream",
     "text": [
      "The public key cryptosystem is  Shift cryptosystem on Free hexadecimal string monoid\n",
      "The encoded string of the plaintext is 776577696c6c6d65657461746d69646e69676874\n",
      "The ciphertext of the given plaintext is  2210221417171810102f1c2f18141f191412132f\n",
      "The decrypted text of the ciphertext is  776577696c6c6d65657461746d69646e69676874\n"
     ]
    },
    {
     "data": {
      "text/plain": [
       "True"
      ]
     },
     "execution_count": 13,
     "metadata": {},
     "output_type": "execute_result"
    }
   ],
   "source": [
    "S = ShiftCryptosystem(HexadecimalStrings())\n",
    "print(\"The public key cryptosystem is \", S)\n",
    "# S.key_space() #by this we can find key_space() of the corresponding cryptosystem\n",
    "P = S.encoding(\"wewillmeetatmidnight\"); # this is just encoding the string monoid over the shift cipher S \n",
    "print(\"The encoded string of the plaintext is\", P)\n",
    "K = 11 #secret key must be lies between 0 to 15\n",
    "C = S.enciphering(K,P) #encrypting the given plaintext\n",
    "print(\"The ciphertext of the given plaintext is \", C)\n",
    "D = S.deciphering(K,C); #decrypt the plaintext\n",
    "print(\"The decrypted text of the ciphertext is \", D)\n",
    "D == P"
   ]
  },
  {
   "cell_type": "code",
   "execution_count": 17,
   "metadata": {},
   "outputs": [
    {
     "name": "stdout",
     "output_type": "stream",
     "text": [
      "The public key cryptosystem is  Shift cryptosystem on Free binary string monoid\n",
      "The encoded string of the pliantext is  0111011101100101011101110110100101101100011011000110110101100101011001010111010001100001011101000110110101101001011001000110111001101001011001110110100001110100\n",
      "The ciphertext of the plaintext is \n",
      " 1000100010011010100010001001011010010011100100111001001010011010100110101000101110011110100010111001001010010110100110111001000110010110100110001001011110001011\n",
      "The decrypted ciphertext is \n",
      " 0111011101100101011101110110100101101100011011000110110101100101011001010111010001100001011101000110110101101001011001000110111001101001011001110110100001110100\n",
      "True\n"
     ]
    }
   ],
   "source": [
    "S = ShiftCryptosystem(BinaryStrings())\n",
    "print(\"The public key cryptosystem is \", S)\n",
    "# S.key_space() #by this we can find key_space() of the corresponding cryptosystem\n",
    "# S.alphabet_size() # this will tells us how many elements are there in the corresponding cryptosystem\n",
    "P = S.encoding(\"wewillmeetatmidnight\"); # this is just encoding the string monoid over the shift cipher S \n",
    "print(\"The encoded string of the pliantext is \", P)\n",
    "K = 1 #secret key should be either 0 or 1\n",
    "C = S.enciphering(K,P) #encrypting the given plaintext\n",
    "print(\"The ciphertext of the plaintext is \\n\", C)\n",
    "D = S.deciphering(K,C); #decrypt the plaintext\n",
    "print(\"The decrypted ciphertext is \\n\", D)\n",
    "print(P == D)"
   ]
  },
  {
   "cell_type": "code",
   "execution_count": 4,
   "metadata": {},
   "outputs": [
    {
     "name": "stdout",
     "output_type": "stream",
     "text": [
      "True\n",
      "1\n"
     ]
    }
   ],
   "source": [
    "d=  S.brute_force(C)\n",
    "for i in range(0,len(list(d.values()))):\n",
    "    if list(d.values())[i] == P:\n",
    "        print(True)\n",
    "        print(i)"
   ]
  },
  {
   "cell_type": "markdown",
   "metadata": {},
   "source": [
    "**Substitution Cipher**: \n",
    "\n",
    "For this cryptosystem $\\mathcal{{P} = {C}} = {\\mathbb{Z}_{26}}$. The keyspace $\\mathcal{K}$ is consists of all possible permutation of the $26$ symbols $0,1,\\cdots,25$, so $\\mathcal{K} = {26!}$.For each permutation $\\pi \\to \\mathcal{K}$,\n",
    "\n",
    "* Encryption rule : $e_{\\pi}(x) = \\pi(x)$.\n",
    "\n",
    "* Decryption rule : $d_{\\pi}(y) = {\\pi}^{-1}(y)$, where ${\\pi}^{-1}$ is the inverse permutation to $\\pi$ with $x$ as plaintext & $y$ as ciphertext."
   ]
  },
  {
   "cell_type": "code",
   "execution_count": 20,
   "metadata": {},
   "outputs": [
    {
     "name": "stdout",
     "output_type": "stream",
     "text": [
      "The public key cryptosystem is  Substitution cryptosystem on Free alphabetic string monoid on A-Z\n",
      "The encoded plaintext is  WEWILLMEETATMIDNIGHT\n",
      "The private key for the sender is  ECGJHYWLPSMDZRVNABOFIQUXKT\n",
      "The ciphertext is UHUPDDZHHFEFZPJRPWLF\n",
      "The decrypted ciphertext is  WEWILLMEETATMIDNIGHT\n"
     ]
    }
   ],
   "source": [
    "S = SubstitutionCryptosystem(AlphabeticStrings())\n",
    "print(\"The public key cryptosystem is \", S)\n",
    "P = S.encoding(\"wewillmeetatmidnight\"); # this is just encoding the string monoid over the shift cipher S \n",
    "print(\"The encoded plaintext is \", P)\n",
    "K = S.random_key() # here generate a random key\n",
    "print(\"The private key for the sender is \", K)\n",
    "C = S.enciphering(K,P) #encrypting the given plaintext\n",
    "print(\"The ciphertext is\", C)\n",
    "D = S.deciphering(K,C); #decrypt the plaintext\n",
    "print(\"The decrypted ciphertext is \", D)"
   ]
  },
  {
   "cell_type": "code",
   "execution_count": 21,
   "metadata": {},
   "outputs": [
    {
     "name": "stdout",
     "output_type": "stream",
     "text": [
      "The public key cryptosystem is  Substitution cryptosystem on Free binary string monoid\n",
      "The encoded plaintext is  0111011101100101011101110110100101101100011011000110110101100101011001010111010001100001011101000110110101101001011001000110111001101001011001110110100001110100\n",
      "The private key of this cryptosystenm is  10\n",
      "The ciphertext of the given plaintext is  1000100010011010100010001001011010010011100100111001001010011010100110101000101110011110100010111001001010010110100110111001000110010110100110001001011110001011\n",
      "The decrypted ciphertext is  0111011101100101011101110110100101101100011011000110110101100101011001010111010001100001011101000110110101101001011001000110111001101001011001110110100001110100\n",
      "True\n"
     ]
    }
   ],
   "source": [
    "S = SubstitutionCryptosystem(BinaryStrings())\n",
    "print(\"The public key cryptosystem is \", S)\n",
    "P = S.encoding(\"wewillmeetatmidnight\"); # this is just encoding the string monoid over the shift cipher S \n",
    "print(\"The encoded plaintext is \", P)\n",
    "K = S.random_key() \n",
    "print(\"The private key of this cryptosystenm is \", K)\n",
    "C = S.enciphering(K,P) #encrypting the given plaintext\n",
    "print(\"The ciphertext of the given plaintext is \", C)\n",
    "D = S.deciphering(K,C); #decrypt the plaintext\n",
    "print(\"The decrypted ciphertext is \", D)\n",
    "print(D == P)"
   ]
  },
  {
   "cell_type": "code",
   "execution_count": 22,
   "metadata": {},
   "outputs": [
    {
     "data": {
      "text/html": [
       "<html><script type=\"math/tex; mode=display\">\\newcommand{\\Bold}[1]{\\mathbf{#1}}\\verb|Substitution|\\phantom{\\verb!x!}\\verb|cryptosystem|\\phantom{\\verb!x!}\\verb|on|\\phantom{\\verb!x!}\\verb|Free|\\phantom{\\verb!x!}\\verb|hexadecimal|\\phantom{\\verb!x!}\\verb|string|\\phantom{\\verb!x!}\\verb|monoid|</script></html>"
      ],
      "text/latex": [
       "$$\\newcommand{\\Bold}[1]{\\mathbf{#1}}\\verb|Substitution|\\phantom{\\verb!x!}\\verb|cryptosystem|\\phantom{\\verb!x!}\\verb|on|\\phantom{\\verb!x!}\\verb|Free|\\phantom{\\verb!x!}\\verb|hexadecimal|\\phantom{\\verb!x!}\\verb|string|\\phantom{\\verb!x!}\\verb|monoid|$$"
      ],
      "text/plain": [
       "Substitution cryptosystem on Free hexadecimal string monoid"
      ]
     },
     "metadata": {},
     "output_type": "display_data"
    },
    {
     "name": "stdout",
     "output_type": "stream",
     "text": [
      "The encoded plaintext on this cryptosystem is  776577696c6c6d65657461746d69646e69676874\n",
      "The private key of the cryptosystem is  80d6e1b49a375cf2\n",
      "The ciphertext of the given plaintext is  44b144bab5b5bcb1b14eb04ebcbabebfbab4b94e\n",
      "The decrypted ciphertext is  776577696c6c6d65657461746d69646e69676874\n",
      "True\n"
     ]
    }
   ],
   "source": [
    "S = SubstitutionCryptosystem(HexadecimalStrings())\n",
    "show(S)\n",
    "\n",
    "#S.alphabet_size() # this will tells us how many elements are there in the corresponding cryptosystem\n",
    "P = S.encoding(\"wewillmeetatmidnight\"); # this is just encoding the string monoid over the shift cipher S \n",
    "print(\"The encoded plaintext on this cryptosystem is \", P)\n",
    "K = S.random_key() \n",
    "print(\"The private key of the cryptosystem is \", K)\n",
    "C = S.enciphering(K,P) #encrypting the given plaintext\n",
    "print(\"The ciphertext of the given plaintext is \", C)\n",
    "D = S.deciphering(K,C); #decrypt the plaintext\n",
    "print(\"The decrypted ciphertext is \", D)\n",
    "print(D == P)"
   ]
  },
  {
   "cell_type": "markdown",
   "metadata": {},
   "source": [
    "**Affine cipher** :\n",
    "\n",
    "For this cryptosystem $\\mathcal{{P} = {C}} = \\mathbb{Z}_{26}$. The keyspace $\\mathcal{K}$ is $[(a,b) \\to \\mathbb{Z}_{26} \\times \\mathbb{Z}_{26} : gcd(a,26) = 1]$. For key $k = (a,b) \\to \\mathcal{K}$, \n",
    "\n",
    "* Encryption rule is : $e_{k}(x) = (ax +b)$ mod $26$, $x$ is plaintext.\n",
    "\n",
    "* Decryption rule is : $d_{k}(x) = a^{-1}(y -b)$ mod $26$, $y$ is ciphertext.\n",
    "\n",
    "**Note:** The number of keys in affine cipher over $Z_{m}$ is $m.{\\phi(m)}$."
   ]
  },
  {
   "cell_type": "code",
   "execution_count": 28,
   "metadata": {},
   "outputs": [
    {
     "data": {
      "text/html": [
       "<html><script type=\"math/tex; mode=display\">\\newcommand{\\Bold}[1]{\\mathbf{#1}}\\verb|Affine|\\phantom{\\verb!x!}\\verb|cryptosystem|\\phantom{\\verb!x!}\\verb|on|\\phantom{\\verb!x!}\\verb|Free|\\phantom{\\verb!x!}\\verb|alphabetic|\\phantom{\\verb!x!}\\verb|string|\\phantom{\\verb!x!}\\verb|monoid|\\phantom{\\verb!x!}\\verb|on|\\phantom{\\verb!x!}\\verb|A-Z|</script></html>"
      ],
      "text/latex": [
       "$$\\newcommand{\\Bold}[1]{\\mathbf{#1}}\\verb|Affine|\\phantom{\\verb!x!}\\verb|cryptosystem|\\phantom{\\verb!x!}\\verb|on|\\phantom{\\verb!x!}\\verb|Free|\\phantom{\\verb!x!}\\verb|alphabetic|\\phantom{\\verb!x!}\\verb|string|\\phantom{\\verb!x!}\\verb|monoid|\\phantom{\\verb!x!}\\verb|on|\\phantom{\\verb!x!}\\verb|A-Z|$$"
      ],
      "text/plain": [
       "Affine cryptosystem on Free alphabetic string monoid on A-Z"
      ]
     },
     "metadata": {},
     "output_type": "display_data"
    },
    {
     "name": "stdout",
     "output_type": "stream",
     "text": [
      "The encoded form of the plaintext is  IWILLCALLYOUBACK\n",
      "The pair of the private key for this cryptosystem is  (17, 11)\n",
      "The ciphertext of the given plaintext is  RVRQQTLQQDPNCLTZ\n",
      "The decrypted ciphertext is  IWILLCALLYOUBACK\n",
      "True\n"
     ]
    }
   ],
   "source": [
    "S = AffineCryptosystem(AlphabeticStrings())\n",
    "show(S)\n",
    "\n",
    "#S.alphabet_size() # this will tells us how many elements are there in the corresponding cryptosystem\n",
    "P = S.encoding(\"Iwillcallyouback\"); # this is just encoding the string monoid over the shift cipher S \n",
    "print(\"The encoded form of the plaintext is \", P)\n",
    "# K = S.random_key() \n",
    "K = (17,11) #gcd(a = K[0],26) should be  1\n",
    "print(\"The pair of the private key for this cryptosystem is \", K)\n",
    "C = S.enciphering(K[0],K[1],P) #encrypting the given plaintext\n",
    "print(\"The ciphertext of the given plaintext is \", C)\n",
    "D = S.deciphering(K[0],K[1],C); #decrypt the plaintext\n",
    "print(\"The decrypted ciphertext is \", D)\n",
    "print(D == P)"
   ]
  },
  {
   "cell_type": "markdown",
   "metadata": {},
   "source": [
    "**Vigener cipher**:\n",
    "\n",
    "In this cryptosystem $\\mathcal{{P} = {C} = {K}}= {(\\mathbb{Z}_{26})}^m$ for  a $m$ positive integer. For a key $k = (k_1,k_2, \\cdots, k_{m})$,\n",
    "* Encryption rule : $e_{k}(x_1,x_2,\\cdots, x_{m}) = (x_1+k_1,x_2+k_2,\\cdots, x_{m} + k_{m})$, $x$ is plaintext and \n",
    "\n",
    "* Decryption rule : $d_{k}(y_1,y_2,\\cdots,y_{m}) = (y_1 -k_1,y_2 - k_2, \\cdots, y_{m} - k_{m})$,$y$  is ciphertext,\n",
    "\n",
    "all these operations are performed in $Z_{26}$.\n",
    "\n",
    "**Note**: This is a polyalphabetic cryptosystem."
   ]
  },
  {
   "cell_type": "code",
   "execution_count": 30,
   "metadata": {},
   "outputs": [
    {
     "data": {
      "text/html": [
       "<html><script type=\"math/tex; mode=display\">\\newcommand{\\Bold}[1]{\\mathbf{#1}}\\verb|Vigenere|\\phantom{\\verb!x!}\\verb|cryptosystem|\\phantom{\\verb!x!}\\verb|on|\\phantom{\\verb!x!}\\verb|Free|\\phantom{\\verb!x!}\\verb|alphabetic|\\phantom{\\verb!x!}\\verb|string|\\phantom{\\verb!x!}\\verb|monoid|\\phantom{\\verb!x!}\\verb|on|\\phantom{\\verb!x!}\\verb|A-Z|\\phantom{\\verb!x!}\\verb|of|\\phantom{\\verb!x!}\\verb|period|\\phantom{\\verb!x!}\\verb|6|</script></html>"
      ],
      "text/latex": [
       "$$\\newcommand{\\Bold}[1]{\\mathbf{#1}}\\verb|Vigenere|\\phantom{\\verb!x!}\\verb|cryptosystem|\\phantom{\\verb!x!}\\verb|on|\\phantom{\\verb!x!}\\verb|Free|\\phantom{\\verb!x!}\\verb|alphabetic|\\phantom{\\verb!x!}\\verb|string|\\phantom{\\verb!x!}\\verb|monoid|\\phantom{\\verb!x!}\\verb|on|\\phantom{\\verb!x!}\\verb|A-Z|\\phantom{\\verb!x!}\\verb|of|\\phantom{\\verb!x!}\\verb|period|\\phantom{\\verb!x!}\\verb|6|$$"
      ],
      "text/plain": [
       "Vigenere cryptosystem on Free alphabetic string monoid on A-Z of period 6"
      ]
     },
     "metadata": {},
     "output_type": "display_data"
    },
    {
     "name": "stdout",
     "output_type": "stream",
     "text": [
      "The encoded form of the plaintext is  THISCRYPTOSYSTEMISNOTSECURE\n",
      "The key string of this cryptosystem is  CIPHER\n",
      "The ciphertext of the given plaintext is  VPXZGIAXIVWPUBTTMJPWIZITWZT\n",
      "The decrypted ciphertext is  THISCRYPTOSYSTEMISNOTSECURE\n",
      "True\n"
     ]
    }
   ],
   "source": [
    "V = AlphabeticStrings()\n",
    "S = VigenereCryptosystem(V,6)\n",
    "P = S.encoding(\"thiscryptosystemisnotsecure\")\n",
    "show(S)\n",
    "print(\"The encoded form of the plaintext is \", P)\n",
    "#K = S.random_key()\n",
    "K = V('CIPHER')\n",
    "print(\"The key string of this cryptosystem is \", K)\n",
    "C = S.enciphering(K,P)\n",
    "print(\"The ciphertext of the given plaintext is \", C)\n",
    "D = S.deciphering(K,C)\n",
    "print(\"The decrypted ciphertext is \", D)\n",
    "print(D == P)"
   ]
  },
  {
   "cell_type": "code",
   "execution_count": 31,
   "metadata": {},
   "outputs": [
    {
     "data": {
      "text/html": [
       "<html><script type=\"math/tex; mode=display\">\\newcommand{\\Bold}[1]{\\mathbf{#1}}\\verb|Vigenere|\\phantom{\\verb!x!}\\verb|cryptosystem|\\phantom{\\verb!x!}\\verb|on|\\phantom{\\verb!x!}\\verb|Free|\\phantom{\\verb!x!}\\verb|hexadecimal|\\phantom{\\verb!x!}\\verb|string|\\phantom{\\verb!x!}\\verb|monoid|\\phantom{\\verb!x!}\\verb|of|\\phantom{\\verb!x!}\\verb|period|\\phantom{\\verb!x!}\\verb|6|</script></html>"
      ],
      "text/latex": [
       "$$\\newcommand{\\Bold}[1]{\\mathbf{#1}}\\verb|Vigenere|\\phantom{\\verb!x!}\\verb|cryptosystem|\\phantom{\\verb!x!}\\verb|on|\\phantom{\\verb!x!}\\verb|Free|\\phantom{\\verb!x!}\\verb|hexadecimal|\\phantom{\\verb!x!}\\verb|string|\\phantom{\\verb!x!}\\verb|monoid|\\phantom{\\verb!x!}\\verb|of|\\phantom{\\verb!x!}\\verb|period|\\phantom{\\verb!x!}\\verb|6|$$"
      ],
      "text/plain": [
       "Vigenere cryptosystem on Free hexadecimal string monoid of period 6"
      ]
     },
     "metadata": {},
     "output_type": "display_data"
    },
    {
     "name": "stdout",
     "output_type": "stream",
     "text": [
      "The encoded plaintext is given by  7468697363727970746f73797374656d69736e6f74736563757265\n",
      "The private key to this cryptosystem is  d36e25\n",
      "The ciphertext of the given plaintext is  47c68e46c1974cde9932d19e46d28a30c79831cd9946c38848d08a\n",
      "The decrypted ciphertext is 7468697363727970746f73797374656d69736e6f74736563757265\n",
      "True\n"
     ]
    }
   ],
   "source": [
    "V = HexadecimalStrings()\n",
    "S = VigenereCryptosystem(V,6)\n",
    "show(S)\n",
    "P = S.encoding(\"thiscryptosystemisnotsecure\")\n",
    "print(\"The encoded plaintext is given by \", P)\n",
    "# S.alphabet_size() # this will tells us how many elements are there in the corresponding cryptosystem\n",
    "#K = S.random_key()\n",
    "#since in hexadecimal, there are only 16 alphabets, then always key will be \n",
    "# combination of 0 to 9 & a to f.\n",
    "K = S.random_key()\n",
    "print(\"The private key to this cryptosystem is \", K)\n",
    "C = S.enciphering(K,P)\n",
    "print(\"The ciphertext of the given plaintext is \", C)\n",
    "D = S.deciphering(K,C)\n",
    "print(\"The decrypted ciphertext is\", D)\n",
    "print(D == P)"
   ]
  },
  {
   "cell_type": "code",
   "execution_count": 32,
   "metadata": {},
   "outputs": [
    {
     "data": {
      "text/html": [
       "<html><script type=\"math/tex; mode=display\">\\newcommand{\\Bold}[1]{\\mathbf{#1}}\\verb|Vigenere|\\phantom{\\verb!x!}\\verb|cryptosystem|\\phantom{\\verb!x!}\\verb|on|\\phantom{\\verb!x!}\\verb|Free|\\phantom{\\verb!x!}\\verb|binary|\\phantom{\\verb!x!}\\verb|string|\\phantom{\\verb!x!}\\verb|monoid|\\phantom{\\verb!x!}\\verb|of|\\phantom{\\verb!x!}\\verb|period|\\phantom{\\verb!x!}\\verb|6|</script></html>"
      ],
      "text/latex": [
       "$$\\newcommand{\\Bold}[1]{\\mathbf{#1}}\\verb|Vigenere|\\phantom{\\verb!x!}\\verb|cryptosystem|\\phantom{\\verb!x!}\\verb|on|\\phantom{\\verb!x!}\\verb|Free|\\phantom{\\verb!x!}\\verb|binary|\\phantom{\\verb!x!}\\verb|string|\\phantom{\\verb!x!}\\verb|monoid|\\phantom{\\verb!x!}\\verb|of|\\phantom{\\verb!x!}\\verb|period|\\phantom{\\verb!x!}\\verb|6|$$"
      ],
      "text/plain": [
       "Vigenere cryptosystem on Free binary string monoid of period 6"
      ]
     },
     "metadata": {},
     "output_type": "display_data"
    },
    {
     "name": "stdout",
     "output_type": "stream",
     "text": [
      "The encoded plaintext is given by 011101000110100001101001011100110110001101110010011110010111000001110100011011110111001101111001011100110111010001100101011011010110100101110011011011100110111101110100011100110110010101100011011101010111001001100101\n",
      "The private key for this cryptosystem is  100100\n",
      "The ciphertext of the plaintext is  111001100010000101001101111000010010101001010110111010110011100101010000111111010011101001011101111000010011110101000001111111110010000001010111111111000010011001010000111000010010110001000111111001110011101101000001\n",
      "The decrypted ciphertext is  011101000110100001101001011100110110001101110010011110010111000001110100011011110111001101111001011100110111010001100101011011010110100101110011011011100110111101110100011100110110010101100011011101010111001001100101\n",
      "True\n"
     ]
    }
   ],
   "source": [
    "V = BinaryStrings()\n",
    "S = VigenereCryptosystem(V,6)\n",
    "P = S.encoding(\"thiscryptosystemisnotsecure\")\n",
    "show(S)\n",
    "print(\"The encoded plaintext is given by\",P )\n",
    "#K = S.random_key()\n",
    "#since in hexadecimal, there are only 16 alphabets, then always key will be \n",
    "# combination of 0 to 9 & a to f.\n",
    "K = S.random_key()\n",
    "print(\"The private key for this cryptosystem is \", K)\n",
    "C = S.enciphering(K,P)\n",
    "print(\"The ciphertext of the plaintext is \", C)\n",
    "D = S.deciphering(K,C)\n",
    "print(\"The decrypted ciphertext is \", D)\n",
    "print(D == P)"
   ]
  },
  {
   "cell_type": "markdown",
   "metadata": {},
   "source": [
    "The below code shows that the encryption and decryption functions are inverse of each other. And this assertion will hold for all public key cryptosystems."
   ]
  },
  {
   "cell_type": "code",
   "execution_count": 33,
   "metadata": {},
   "outputs": [
    {
     "data": {
      "text/plain": [
       "True"
      ]
     },
     "execution_count": 33,
     "metadata": {},
     "output_type": "execute_result"
    }
   ],
   "source": [
    "ki = S.inverse_key(K)\n",
    "e = S(K)\n",
    "d = S(ki)\n",
    "e(d(V(\"100001\"))) == V(\"100001\") "
   ]
  },
  {
   "cell_type": "markdown",
   "metadata": {},
   "source": [
    "**Hill Cipher**:\n",
    "\n",
    "In this cryptosystem $\\mathcal{{P} = {C}} = {(\\mathbb{Z}_{26})}^m$ for $m \\ge 2$ integer. The keyspace is  $\\mathcal{K}$ = $m \\times m$ invertible matrices over $\\mathbb{Z}_{26}$. Then, for a key $K \\to \\mathcal{K}$, \n",
    "\n",
    "* Encryption rule : $e_{k}(x) = xK$, $x$ is plaintext,\n",
    "\n",
    "* Decryption rule : $d_{k}(x) = yK^{-1}$, $y$ is ciphertext,\n",
    "\n",
    "where all operations are performed in $Z_{26}$."
   ]
  },
  {
   "cell_type": "code",
   "execution_count": 36,
   "metadata": {
    "scrolled": true
   },
   "outputs": [
    {
     "data": {
      "text/html": [
       "<html><script type=\"math/tex; mode=display\">\\newcommand{\\Bold}[1]{\\mathbf{#1}}\\verb|Hill|\\phantom{\\verb!x!}\\verb|cryptosystem|\\phantom{\\verb!x!}\\verb|on|\\phantom{\\verb!x!}\\verb|Free|\\phantom{\\verb!x!}\\verb|alphabetic|\\phantom{\\verb!x!}\\verb|string|\\phantom{\\verb!x!}\\verb|monoid|\\phantom{\\verb!x!}\\verb|on|\\phantom{\\verb!x!}\\verb|A-Z|\\phantom{\\verb!x!}\\verb|of|\\phantom{\\verb!x!}\\verb|block|\\phantom{\\verb!x!}\\verb|length|\\phantom{\\verb!x!}\\verb|6|</script></html>"
      ],
      "text/latex": [
       "$$\\newcommand{\\Bold}[1]{\\mathbf{#1}}\\verb|Hill|\\phantom{\\verb!x!}\\verb|cryptosystem|\\phantom{\\verb!x!}\\verb|on|\\phantom{\\verb!x!}\\verb|Free|\\phantom{\\verb!x!}\\verb|alphabetic|\\phantom{\\verb!x!}\\verb|string|\\phantom{\\verb!x!}\\verb|monoid|\\phantom{\\verb!x!}\\verb|on|\\phantom{\\verb!x!}\\verb|A-Z|\\phantom{\\verb!x!}\\verb|of|\\phantom{\\verb!x!}\\verb|block|\\phantom{\\verb!x!}\\verb|length|\\phantom{\\verb!x!}\\verb|6|$$"
      ],
      "text/plain": [
       "Hill cryptosystem on Free alphabetic string monoid on A-Z of block length 6"
      ]
     },
     "metadata": {},
     "output_type": "display_data"
    },
    {
     "name": "stdout",
     "output_type": "stream",
     "text": [
      "The encoded plaintext through the cryptosystem is  GOODDA\n",
      "The private key to this cryptosystem is \n",
      " [[16 12  4 13 19 21]\n",
      "[25  6 19 20 18 10]\n",
      "[19 17 13  7 17 21]\n",
      "[ 0 18  5  6 11 17]\n",
      "[22 15 22  2 21  0]\n",
      "[15 16 21 23  2 16]]\n",
      "The ciphertext of the given plaintext is  YZHMYN\n",
      "The decrypted ciphertext is  GOODDA\n",
      "True\n"
     ]
    }
   ],
   "source": [
    "V = AlphabeticStrings()\n",
    "S = HillCryptosystem(V,6)\n",
    "P = S.encoding(\"good da\") #when we encode some string, need to care that,\n",
    "# the string should be multiple of the positive integer m =6,here\n",
    "show(S)\n",
    "print(\"The encoded plaintext through the cryptosystem is \", P)\n",
    "#K = S.random_key()\n",
    "#since in hexadecimal, there are only 16 alphabets, then always key will be \n",
    "# combination of 0 to 9 & a to f.\n",
    "K = S.random_key()\n",
    "print(\"The private key to this cryptosystem is \\n\", 71+K])\n",
    "C = S.enciphering(K,P)\n",
    "print(\"The ciphertext of the given plaintext is \",C)\n",
    "D = S.deciphering(K,C)\n",
    "print(\"The decrypted ciphertext is \", D)\n",
    "print(D == P)"
   ]
  },
  {
   "cell_type": "code",
   "execution_count": 38,
   "metadata": {},
   "outputs": [
    {
     "data": {
      "text/html": [
       "<html><script type=\"math/tex; mode=display\">\\newcommand{\\Bold}[1]{\\mathbf{#1}}\\verb|Hill|\\phantom{\\verb!x!}\\verb|cryptosystem|\\phantom{\\verb!x!}\\verb|on|\\phantom{\\verb!x!}\\verb|Free|\\phantom{\\verb!x!}\\verb|alphabetic|\\phantom{\\verb!x!}\\verb|string|\\phantom{\\verb!x!}\\verb|monoid|\\phantom{\\verb!x!}\\verb|on|\\phantom{\\verb!x!}\\verb|A-Z|\\phantom{\\verb!x!}\\verb|of|\\phantom{\\verb!x!}\\verb|block|\\phantom{\\verb!x!}\\verb|length|\\phantom{\\verb!x!}\\verb|3|</script></html>"
      ],
      "text/latex": [
       "$$\\newcommand{\\Bold}[1]{\\mathbf{#1}}\\verb|Hill|\\phantom{\\verb!x!}\\verb|cryptosystem|\\phantom{\\verb!x!}\\verb|on|\\phantom{\\verb!x!}\\verb|Free|\\phantom{\\verb!x!}\\verb|alphabetic|\\phantom{\\verb!x!}\\verb|string|\\phantom{\\verb!x!}\\verb|monoid|\\phantom{\\verb!x!}\\verb|on|\\phantom{\\verb!x!}\\verb|A-Z|\\phantom{\\verb!x!}\\verb|of|\\phantom{\\verb!x!}\\verb|block|\\phantom{\\verb!x!}\\verb|length|\\phantom{\\verb!x!}\\verb|3|$$"
      ],
      "text/plain": [
       "Hill cryptosystem on Free alphabetic string monoid on A-Z of block length 3"
      ]
     },
     "metadata": {},
     "output_type": "display_data"
    },
    {
     "name": "stdout",
     "output_type": "stream",
     "text": [
      "The encoded plaintext is GOODDAYMATEHOWWASTHETOUR\n",
      "The secret key of this cryptosystem is  [ 0  3 11]\n",
      "[ 2  5 20]\n",
      "[ 3 13  5]\n",
      "The ciphertext of this cryptosystem is  SKAGYPYCKDMMGWCPZNNCSNZP\n",
      "The decrypted text is  GOODDAYMATEHOWWASTHETOUR\n",
      "True\n"
     ]
    }
   ],
   "source": [
    "V = AlphabeticStrings()\n",
    "S = HillCryptosystem(V,3)\n",
    "P = S.encoding(\"Good day,mate! How was the tour?\")\n",
    "show(S)\n",
    "print(\"The encoded plaintext is\", P)\n",
    "#K = S.random_key()\n",
    "#since in hexadecimal, there are only 16 alphabets, then always key will be \n",
    "# combination of 0 to 9 & a to f.\n",
    "R = IntegerModRing(26) #26 is as we do all operation under Z_26\n",
    "M = MatrixSpace(R,3,3) #3,3 is the order of the matrix\n",
    "\n",
    "K = M([[0,3,89],[2,5,20],[3,13,31]]) #remind that this matrix has to be invertible.\n",
    "print(\"The secret key of this cryptosystem is \", K)\n",
    "C = S.enciphering(K,P)\n",
    "print(\"The ciphertext of this cryptosystem is \", C)\n",
    "D = S.deciphering(K,C)\n",
    "print(\"The decrypted text is \", D)\n",
    "print(D == P)"
   ]
  },
  {
   "cell_type": "code",
   "execution_count": 40,
   "metadata": {},
   "outputs": [
    {
     "data": {
      "text/html": [
       "<html><script type=\"math/tex; mode=display\">\\newcommand{\\Bold}[1]{\\mathbf{#1}}\\verb|Hill|\\phantom{\\verb!x!}\\verb|cryptosystem|\\phantom{\\verb!x!}\\verb|on|\\phantom{\\verb!x!}\\verb|Free|\\phantom{\\verb!x!}\\verb|binary|\\phantom{\\verb!x!}\\verb|string|\\phantom{\\verb!x!}\\verb|monoid|\\phantom{\\verb!x!}\\verb|of|\\phantom{\\verb!x!}\\verb|block|\\phantom{\\verb!x!}\\verb|length|\\phantom{\\verb!x!}\\verb|3|</script></html>"
      ],
      "text/latex": [
       "$$\\newcommand{\\Bold}[1]{\\mathbf{#1}}\\verb|Hill|\\phantom{\\verb!x!}\\verb|cryptosystem|\\phantom{\\verb!x!}\\verb|on|\\phantom{\\verb!x!}\\verb|Free|\\phantom{\\verb!x!}\\verb|binary|\\phantom{\\verb!x!}\\verb|string|\\phantom{\\verb!x!}\\verb|monoid|\\phantom{\\verb!x!}\\verb|of|\\phantom{\\verb!x!}\\verb|block|\\phantom{\\verb!x!}\\verb|length|\\phantom{\\verb!x!}\\verb|3|$$"
      ],
      "text/plain": [
       "Hill cryptosystem on Free binary string monoid of block length 3"
      ]
     },
     "metadata": {},
     "output_type": "display_data"
    },
    {
     "name": "stdout",
     "output_type": "stream",
     "text": [
      "The encoded plaintext is  001100010011000000110001\n",
      "The secret key is [0 1 1]\n",
      "[0 1 0]\n",
      "[1 1 1]\n",
      "The cipher text of the given plaintext is  111011010101000000001111\n",
      "The decrypted text is  001100010011000000110001\n",
      "True\n"
     ]
    }
   ],
   "source": [
    "V = BinaryStrings()\n",
    "S = HillCryptosystem(V,3)\n",
    "P = S.encoding(\"101\")\n",
    "show(S)\n",
    "print(\"The encoded plaintext is \", P)\n",
    "#K = S.random_key()\n",
    "#since in hexadecimal, there are only 16 alphabets, then always key will be \n",
    "# combination of 0 to 9 & a to f.\n",
    "R = IntegerModRing(2) #26 is as we do all operation under Z_26\n",
    "M = MatrixSpace(R,3,3) #3,3 is the order of the matrix\n",
    "\n",
    "K = M([[0,3,89],[2,5,20],[3,13,31]]) #remind that this matrix has to be invertible.\n",
    "print(\"The secret key is\", K)\n",
    "C = S.enciphering(K,P)\n",
    "print(\"The cipher text of the given plaintext is \",C)\n",
    "D = S.deciphering(K,C)\n",
    "print(\"The decrypted text is \", D)\n",
    "print(D == P)"
   ]
  },
  {
   "cell_type": "code",
   "execution_count": 41,
   "metadata": {},
   "outputs": [
    {
     "data": {
      "text/html": [
       "<html><script type=\"math/tex; mode=display\">\\newcommand{\\Bold}[1]{\\mathbf{#1}}\\verb|Hill|\\phantom{\\verb!x!}\\verb|cryptosystem|\\phantom{\\verb!x!}\\verb|on|\\phantom{\\verb!x!}\\verb|Free|\\phantom{\\verb!x!}\\verb|hexadecimal|\\phantom{\\verb!x!}\\verb|string|\\phantom{\\verb!x!}\\verb|monoid|\\phantom{\\verb!x!}\\verb|of|\\phantom{\\verb!x!}\\verb|block|\\phantom{\\verb!x!}\\verb|length|\\phantom{\\verb!x!}\\verb|3|</script></html>"
      ],
      "text/latex": [
       "$$\\newcommand{\\Bold}[1]{\\mathbf{#1}}\\verb|Hill|\\phantom{\\verb!x!}\\verb|cryptosystem|\\phantom{\\verb!x!}\\verb|on|\\phantom{\\verb!x!}\\verb|Free|\\phantom{\\verb!x!}\\verb|hexadecimal|\\phantom{\\verb!x!}\\verb|string|\\phantom{\\verb!x!}\\verb|monoid|\\phantom{\\verb!x!}\\verb|of|\\phantom{\\verb!x!}\\verb|block|\\phantom{\\verb!x!}\\verb|length|\\phantom{\\verb!x!}\\verb|3|$$"
      ],
      "text/plain": [
       "Hill cryptosystem on Free hexadecimal string monoid of block length 3"
      ]
     },
     "metadata": {},
     "output_type": "display_data"
    },
    {
     "name": "stdout",
     "output_type": "stream",
     "text": [
      "The encoded plaintext is  616263\n",
      "The secret key of the cryptosystem is  [ 0  3  6]\n",
      "[ 2  5 11]\n",
      "[ 9  9 15]\n",
      "The cipher text is  8d97fb\n",
      "The decrypted text is 616263\n",
      "True\n"
     ]
    }
   ],
   "source": [
    "V = HexadecimalStrings()\n",
    "S = HillCryptosystem(V,3)\n",
    "P = S.encoding(\"abc\")\n",
    "show(S)\n",
    "print(\"The encoded plaintext is \",P)\n",
    "#K = S.random_key()\n",
    "#since in hexadecimal, there are only 16 alphabets, then always key will be \n",
    "# combination of 0 to 9 & a to f.\n",
    "R = IntegerModRing(16) #26 is as we do all operation under Z_26, \n",
    "# so when we change the strings, like when we give hexadecimal, \n",
    "#then we need to give it 16,for binary need to give 2 instead of 26.\n",
    "M = MatrixSpace(R,3,3) #3,3 is the order of the matrix\n",
    "\n",
    "K = M([[0,3,6],[2,5,27],[89,57,31]])\n",
    "print(\"The secret key of the cryptosystem is \", K)\n",
    "C = S.enciphering(K,P)\n",
    "print(\"The cipher text is \", C)\n",
    "D = S.deciphering(K,C)\n",
    "print(\"The decrypted text is\", D)\n",
    "print(D == P)"
   ]
  },
  {
   "cell_type": "markdown",
   "metadata": {},
   "source": [
    "**Permutation(Transposition) cipher**:\n",
    "\n",
    "In this cryptosystem $\\mathcal{{P} = {C}} = (\\mathbb{Z}_{26})^m$, for some positive $m \\to \\mathbb{Z}$. The keyspace is $\\mathcal{K} = m!$. For a key i.e. a permutation  $\\pi \\to (\\mathbb{Z}_{26})^m$,\n",
    "\n",
    "* Encryption rule : $e_{\\pi}(x_1, \\cdots, x_{m}) = (x_{{\\pi}_1}, \\cdots, x_{{\\pi}_m}$, $x$ is the plaintext.\n",
    "\n",
    "* Decryption rule : $d_{\\pi}(y_1, \\cdots, y_m) = (y_{{\\pi}^{-1}_1},\\cdots, y_{{\\pi}^{-1}_m})$, $y$ is the ciphertext\n",
    "\n",
    "where ${\\pi}^{-1}$ is the inverse permutation  of $\\pi$."
   ]
  },
  {
   "cell_type": "code",
   "execution_count": 42,
   "metadata": {},
   "outputs": [
    {
     "data": {
      "text/html": [
       "<html><script type=\"math/tex; mode=display\">\\newcommand{\\Bold}[1]{\\mathbf{#1}}\\verb|Transposition|\\phantom{\\verb!x!}\\verb|cryptosystem|\\phantom{\\verb!x!}\\verb|on|\\phantom{\\verb!x!}\\verb|Free|\\phantom{\\verb!x!}\\verb|alphabetic|\\phantom{\\verb!x!}\\verb|string|\\phantom{\\verb!x!}\\verb|monoid|\\phantom{\\verb!x!}\\verb|on|\\phantom{\\verb!x!}\\verb|A-Z|\\phantom{\\verb!x!}\\verb|of|\\phantom{\\verb!x!}\\verb|block|\\phantom{\\verb!x!}\\verb|length|\\phantom{\\verb!x!}\\verb|3|</script></html>"
      ],
      "text/latex": [
       "$$\\newcommand{\\Bold}[1]{\\mathbf{#1}}\\verb|Transposition|\\phantom{\\verb!x!}\\verb|cryptosystem|\\phantom{\\verb!x!}\\verb|on|\\phantom{\\verb!x!}\\verb|Free|\\phantom{\\verb!x!}\\verb|alphabetic|\\phantom{\\verb!x!}\\verb|string|\\phantom{\\verb!x!}\\verb|monoid|\\phantom{\\verb!x!}\\verb|on|\\phantom{\\verb!x!}\\verb|A-Z|\\phantom{\\verb!x!}\\verb|of|\\phantom{\\verb!x!}\\verb|block|\\phantom{\\verb!x!}\\verb|length|\\phantom{\\verb!x!}\\verb|3|$$"
      ],
      "text/plain": [
       "Transposition cryptosystem on Free alphabetic string monoid on A-Z of block length 3"
      ]
     },
     "metadata": {},
     "output_type": "display_data"
    },
    {
     "name": "stdout",
     "output_type": "stream",
     "text": [
      "The encoded plaintext is  ICT\n",
      "The private key for the cryptosystem is  (1,2)\n",
      "The ciphertext of the plaintext is  CIT\n",
      "The decrypted text is  ICT\n",
      "True\n"
     ]
    }
   ],
   "source": [
    "V = AlphabeticStrings()\n",
    "m = 3\n",
    "S = TranspositionCryptosystem(V,m)\n",
    "show(S)\n",
    "P = S.encoding(\"ICT\") #given string must be multiple of m\n",
    "print(\"The encoded plaintext is \", P)\n",
    "K = S.random_key()\n",
    "#since in hexadecimal, there are only 16 alphabets, then always key will be \n",
    "# combination of 0 to 9 & a to f.\n",
    "# K = [m - i for i in  range(m)] #using this we can create our own key\n",
    "print(\"The private key for the cryptosystem is \", K)\n",
    "C = S.enciphering(K,P)\n",
    "print(\"The ciphertext of the plaintext is \", C)\n",
    "D = S.deciphering(K,C)\n",
    "print(\"The decrypted text is \", D)\n",
    "print(D == P)"
   ]
  },
  {
   "cell_type": "code",
   "execution_count": 43,
   "metadata": {},
   "outputs": [
    {
     "data": {
      "text/html": [
       "<html><script type=\"math/tex; mode=display\">\\newcommand{\\Bold}[1]{\\mathbf{#1}}\\verb|Transposition|\\phantom{\\verb!x!}\\verb|cryptosystem|\\phantom{\\verb!x!}\\verb|on|\\phantom{\\verb!x!}\\verb|Free|\\phantom{\\verb!x!}\\verb|hexadecimal|\\phantom{\\verb!x!}\\verb|string|\\phantom{\\verb!x!}\\verb|monoid|\\phantom{\\verb!x!}\\verb|of|\\phantom{\\verb!x!}\\verb|block|\\phantom{\\verb!x!}\\verb|length|\\phantom{\\verb!x!}\\verb|3|</script></html>"
      ],
      "text/latex": [
       "$$\\newcommand{\\Bold}[1]{\\mathbf{#1}}\\verb|Transposition|\\phantom{\\verb!x!}\\verb|cryptosystem|\\phantom{\\verb!x!}\\verb|on|\\phantom{\\verb!x!}\\verb|Free|\\phantom{\\verb!x!}\\verb|hexadecimal|\\phantom{\\verb!x!}\\verb|string|\\phantom{\\verb!x!}\\verb|monoid|\\phantom{\\verb!x!}\\verb|of|\\phantom{\\verb!x!}\\verb|block|\\phantom{\\verb!x!}\\verb|length|\\phantom{\\verb!x!}\\verb|3|$$"
      ],
      "text/plain": [
       "Transposition cryptosystem on Free hexadecimal string monoid of block length 3"
      ]
     },
     "metadata": {},
     "output_type": "display_data"
    },
    {
     "name": "stdout",
     "output_type": "stream",
     "text": [
      "The encoded plaintext is  476f6f646461\n",
      "The secret key of this cryptosystem is  (1,3)\n",
      "The ciphertext is  674f6f646164\n",
      "THe decrypted text is  476f6f646461\n",
      "True\n"
     ]
    }
   ],
   "source": [
    "V = HexadecimalStrings()\n",
    "m = 3\n",
    "S = TranspositionCryptosystem(V,m)\n",
    "show(S)\n",
    "P = S.encoding(\"Goodda\") #given string must be multiple of m\n",
    "print(\"The encoded plaintext is \", P)\n",
    "K = S.random_key()\n",
    "#since in hexadecimal, there are only 16 alphabets, then always key will be \n",
    "# combination of 0 to 9 & a to f.\n",
    "#K = [(m - i for i in  range(m))] #using this we can create our own key\n",
    "print(\"The secret key of this cryptosystem is \", K)\n",
    "C = S.enciphering(K,P)\n",
    "print(\"The ciphertext is \", C)\n",
    "D = S.deciphering(K,C)\n",
    "print(\"THe decrypted text is \", D)\n",
    "print(D == P)"
   ]
  },
  {
   "cell_type": "code",
   "execution_count": 44,
   "metadata": {},
   "outputs": [
    {
     "data": {
      "text/html": [
       "<html><script type=\"math/tex; mode=display\">\\newcommand{\\Bold}[1]{\\mathbf{#1}}\\verb|Transposition|\\phantom{\\verb!x!}\\verb|cryptosystem|\\phantom{\\verb!x!}\\verb|on|\\phantom{\\verb!x!}\\verb|Free|\\phantom{\\verb!x!}\\verb|binary|\\phantom{\\verb!x!}\\verb|string|\\phantom{\\verb!x!}\\verb|monoid|\\phantom{\\verb!x!}\\verb|of|\\phantom{\\verb!x!}\\verb|block|\\phantom{\\verb!x!}\\verb|length|\\phantom{\\verb!x!}\\verb|3|</script></html>"
      ],
      "text/latex": [
       "$$\\newcommand{\\Bold}[1]{\\mathbf{#1}}\\verb|Transposition|\\phantom{\\verb!x!}\\verb|cryptosystem|\\phantom{\\verb!x!}\\verb|on|\\phantom{\\verb!x!}\\verb|Free|\\phantom{\\verb!x!}\\verb|binary|\\phantom{\\verb!x!}\\verb|string|\\phantom{\\verb!x!}\\verb|monoid|\\phantom{\\verb!x!}\\verb|of|\\phantom{\\verb!x!}\\verb|block|\\phantom{\\verb!x!}\\verb|length|\\phantom{\\verb!x!}\\verb|3|$$"
      ],
      "text/plain": [
       "Transposition cryptosystem on Free binary string monoid of block length 3"
      ]
     },
     "metadata": {},
     "output_type": "display_data"
    },
    {
     "name": "stdout",
     "output_type": "stream",
     "text": [
      "The encoded plaintext is  010001110110111101101111011001000110010001100001\n",
      "The secret key of the cryptosystem is  (1,3)\n",
      "The ciphertext is  010100011011111101101111110100000011010100001100\n",
      "The decreypted text is  010001110110111101101111011001000110010001100001\n",
      "True\n"
     ]
    }
   ],
   "source": [
    "V = BinaryStrings()\n",
    "m = 3\n",
    "S = TranspositionCryptosystem(V,m)\n",
    "P = S.encoding(\"Goodda\") #given string must be multiple of m\n",
    "show(S)\n",
    "print(\"The encoded plaintext is \", P)\n",
    "K = S.random_key()\n",
    "#since in hexadecimal, there are only 16 alphabets, then always key will be \n",
    "# combination of 0 to 9 & a to f.\n",
    "# K = [m - i for i in  range(m)] #using this we can create our own key\n",
    "print(\"The secret key of the cryptosystem is \",K)\n",
    "C = S.enciphering(K,P)\n",
    "print(\"The ciphertext is \", C)\n",
    "D = S.deciphering(K,C)\n",
    "print(\"The decreypted text is \", D)\n",
    "print(D == P)"
   ]
  },
  {
   "cell_type": "code",
   "execution_count": 45,
   "metadata": {},
   "outputs": [
    {
     "data": {
      "text/html": [
       "<html><script type=\"math/tex; mode=display\">\\newcommand{\\Bold}[1]{\\mathbf{#1}}\\verb|Transposition|\\phantom{\\verb!x!}\\verb|cryptosystem|\\phantom{\\verb!x!}\\verb|on|\\phantom{\\verb!x!}\\verb|Free|\\phantom{\\verb!x!}\\verb|octal|\\phantom{\\verb!x!}\\verb|string|\\phantom{\\verb!x!}\\verb|monoid|\\phantom{\\verb!x!}\\verb|of|\\phantom{\\verb!x!}\\verb|block|\\phantom{\\verb!x!}\\verb|length|\\phantom{\\verb!x!}\\verb|3|</script></html>"
      ],
      "text/latex": [
       "$$\\newcommand{\\Bold}[1]{\\mathbf{#1}}\\verb|Transposition|\\phantom{\\verb!x!}\\verb|cryptosystem|\\phantom{\\verb!x!}\\verb|on|\\phantom{\\verb!x!}\\verb|Free|\\phantom{\\verb!x!}\\verb|octal|\\phantom{\\verb!x!}\\verb|string|\\phantom{\\verb!x!}\\verb|monoid|\\phantom{\\verb!x!}\\verb|of|\\phantom{\\verb!x!}\\verb|block|\\phantom{\\verb!x!}\\verb|length|\\phantom{\\verb!x!}\\verb|3|$$"
      ],
      "text/plain": [
       "Transposition cryptosystem on Free octal string monoid of block length 3"
      ]
     },
     "metadata": {},
     "output_type": "display_data"
    },
    {
     "name": "stdout",
     "output_type": "stream",
     "text": [
      "The encoded plaintext is  257\n",
      "The secret key for this cryptosystem is  (1,2,3)\n",
      "The ciphertext of the given plaintext is  572\n",
      "The decrypted text is  257\n",
      "True\n"
     ]
    }
   ],
   "source": [
    "V = OctalStrings()\n",
    "m = 3\n",
    "S = TranspositionCryptosystem(V,m)\n",
    "show(S)\n",
    "M = \"257\"\n",
    "P = V(M) #given string must be multiple of m\n",
    "print(\"The encoded plaintext is \", P)\n",
    "K = S.random_key()\n",
    "#since in hexadecimal, there are only 16 alphabets, then always key will be \n",
    "# combination of 0 to 9 & a to f.\n",
    "# K = [m - i for i in  range(m)] #using this we can create our own key\n",
    "print(\"The secret key for this cryptosystem is \", K)\n",
    "C = S.enciphering(K,P)\n",
    "print(\"The ciphertext of the given plaintext is \", C)\n",
    "D = S.deciphering(K,C)\n",
    "print(\"The decrypted text is \", D)\n",
    "print(D == P)"
   ]
  },
  {
   "cell_type": "code",
   "execution_count": null,
   "metadata": {},
   "outputs": [],
   "source": []
  }
 ],
 "metadata": {
  "kernelspec": {
   "display_name": "SageMath 9.3",
   "language": "sage",
   "name": "sagemath"
  },
  "language_info": {
   "codemirror_mode": {
    "name": "ipython",
    "version": 3
   },
   "file_extension": ".py",
   "mimetype": "text/x-python",
   "name": "python",
   "nbconvert_exporter": "python",
   "pygments_lexer": "ipython3",
   "version": "3.7.10"
  }
 },
 "nbformat": 4,
 "nbformat_minor": 4
}
