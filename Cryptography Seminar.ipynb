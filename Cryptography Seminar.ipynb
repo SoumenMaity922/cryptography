{
 "cells": [
  {
   "cell_type": "markdown",
   "metadata": {},
   "source": [
    "ASCII codes\n",
    "\n",
    "In Binary Strings:                     \n",
    "        \n",
    "    a   | 01100001   A  01000001   spacebar  00100000   ?   00111111\n",
    "    b   | 01100010   B  01000010   +         00101011   |   01111100\n",
    "    c   | 01100011   C  01000011   -         00101101\n",
    "    d   | 01100100   D  01000100   *         00101010\n",
    "    e   | 01100101   E  01000101   /         00101111\n",
    "    f   | 01100110   F  01000110   .         00101110\n",
    "    g   | 01100111   G  01000111   0         00110000\n",
    "    h   | 01101000   H  01001000   1         00110001\n",
    "    i   | 01101001   I  01001001   2         00110010\n",
    "    j   | 01101010   J  01001010   3         00110011\n",
    "    k   | 01101011   K  01001011   4         00110100\n",
    "    l   | 01101100   L  01001100   5         00110101\n",
    "    m   | 01101101   M  01001101   6         00110110\n",
    "    n   | 01101110   N  01001110   7         00110111\n",
    "    o   | 01101111   O  01001111   8         00111000\n",
    "    p   | 01110000   P  01010000   9         00111001\n",
    "    q   | 01110001   Q  01010001   !         00100001\n",
    "    r   | 01110010   R  01010010   @         01000000\n",
    "    s   | 01110011   S  01010011   #         00100011\n",
    "    t   | 01110100   T  01010100   $         00100100\n",
    "    u   | 01110101   U  01010101   %         00100101\n",
    "    v   | 01110110   V  01010110   ^         01011110\n",
    "    w   | 01110111   W  01010111   <         00111100\n",
    "    x   | 01111000   X  01011000   >         00111110\n",
    "    y   | 01111001   Y  01011001   &         00100110\n",
    "    z   | 01111010   Z  01011010   ,         00101100"
   ]
  },
  {
   "cell_type": "markdown",
   "metadata": {},
   "source": [
    "In Hexadecimal Strings:                     \n",
    "        \n",
    "    a   61   A  41   spacebar 20    ?   3f\n",
    "    b   62   B  42   +         2b   |   7c\n",
    "    c   63   C  43   -         2d\n",
    "    d   64   D  44   *         2a\n",
    "    e   65   E  45   /         2f\n",
    "    f   66   F  46   .         2e\n",
    "    g   67   G  47   0         30\n",
    "    h   68   H  48   1         31\n",
    "    i   69   I  49   2         32\n",
    "    j   6a   J  4a   3         33\n",
    "    k   6b   K  4b   4         34\n",
    "    l   6c   L  4c   5         35\n",
    "    m   6d   M  4d   6         36\n",
    "    n   6e   N  4e   7         37\n",
    "    o   6f   O  4f   8         38\n",
    "    p   70   P  50   9         39\n",
    "    q   71   Q  51   !         21\n",
    "    r   72   R  52   @         40\n",
    "    s   73   S  53   #         23\n",
    "    t   74   T  54   $         24\n",
    "    u   75   U  55   %         25\n",
    "    v   76   V  56   ^         5e\n",
    "    w   77   W  57   <         3c\n",
    "    x   78   X  58   >         3e\n",
    "    y   79   Y  59   &         26\n",
    "    z   7a   Z  5a   ,         2c"
   ]
  },
  {
   "cell_type": "markdown",
   "metadata": {},
   "source": [
    "For Alphabetic Strings. if we want to encode a small letter, it encode that by its corresponding capital letter, & for capital letter remains same whereas if we input any other symbols, it does not give anything."
   ]
  },
  {
   "cell_type": "markdown",
   "metadata": {},
   "source": [
    "**Shift Cipher**\n",
    "\n",
    "For this cryptosystem $\\mathcal{{P} = {C} = {K}} = {\\mathbb{Z}_{26}}$.  So, the possible keys $k$ are $0 \\le k \\le 25 k$. \n",
    "* Encryption rule is $e_{k}(x) = (x + k)$ mod $26$.\n",
    "\n",
    "* Decrytion rule is $d_{k}(y) = (y-k)$ mod $26$\n",
    "\n",
    "  where $x$ is the plaintext & $y$ is ciphertext.\n",
    "  \n",
    "**In Particular**, for $k = 3$, we called the cryptosystem as Casear cipher."
   ]
  },
  {
   "cell_type": "code",
   "execution_count": 1,
   "metadata": {},
   "outputs": [
    {
     "data": {
      "text/plain": [
       "WEWILLMEETATMIDNIGHT"
      ]
     },
     "execution_count": 1,
     "metadata": {},
     "output_type": "execute_result"
    }
   ],
   "source": [
    "S = ShiftCryptosystem(AlphabeticStrings())\n",
    "S\n",
    "# S.key_space() #by this we can find key_space() of the corresponding cryptosystem\n",
    "\n",
    "#S.alphabet_size() # this will tells us how many elements are there in the corresponding cryptosystem\n",
    "P = S.encoding(\"we will meet at midnight\"); # this is just encoding the string monoid over the shift cipher S \n",
    "P\n",
    "#K = 11 #secret key must be lies between 0 to 25\n",
    "key = S.random_key()  #, using this command we can also generate  random key within this cipher key space.This can be done for every cryptosystem.\n",
    "C = S.enciphering(key,P) #encrypting the given plaintext\n",
    "C\n",
    "D = S.deciphering(key,C); #decrypt the plaintext\n",
    "D"
   ]
  },
  {
   "cell_type": "markdown",
   "metadata": {},
   "source": [
    "Remind that, don't give a space between letters, except AlphabeticStrings(), every strings take a value due to this space.\n",
    "In hexadecimal , encoding value of one space is **20**."
   ]
  },
  {
   "cell_type": "code",
   "execution_count": 2,
   "metadata": {},
   "outputs": [
    {
     "data": {
      "text/plain": [
       "True"
      ]
     },
     "execution_count": 2,
     "metadata": {},
     "output_type": "execute_result"
    }
   ],
   "source": [
    "S = ShiftCryptosystem(HexadecimalStrings())\n",
    "S\n",
    "# S.key_space() #by this we can find key_space() of the corresponding cryptosystem\n",
    "P = S.encoding(\"wewillmeetatmidnight\"); # this is just encoding the string monoid over the shift cipher S \n",
    "P\n",
    "K = 11 #secret key must be lies between 0 to 15\n",
    "C = S.enciphering(K,P) #encrypting the given plaintext\n",
    "C\n",
    "D = S.deciphering(K,C); #decrypt the plaintext\n",
    "D\n",
    "D == P"
   ]
  },
  {
   "cell_type": "code",
   "execution_count": 3,
   "metadata": {},
   "outputs": [
    {
     "data": {
      "text/plain": [
       "True"
      ]
     },
     "execution_count": 3,
     "metadata": {},
     "output_type": "execute_result"
    }
   ],
   "source": [
    "S = ShiftCryptosystem(BinaryStrings())\n",
    "S\n",
    "# S.key_space() #by this we can find key_space() of the corresponding cryptosystem\n",
    "# S.alphabet_size() # this will tells us how many elements are there in the corresponding cryptosystem\n",
    "P = S.encoding(\"wewillmeetatmidnight\"); # this is just encoding the string monoid over the shift cipher S \n",
    "P\n",
    "K = 1 #secret key should be either 0 or 1\n",
    "C = S.enciphering(K,P) #encrypting the given plaintext\n",
    "C\n",
    "D = S.deciphering(K,C); #decrypt the plaintext\n",
    "D\n",
    "P == D"
   ]
  },
  {
   "cell_type": "code",
   "execution_count": 4,
   "metadata": {},
   "outputs": [
    {
     "data": {
      "text/plain": [
       "0111011101100101011101110110100101101100011011000110110101100101011001010111010001100001011101000110110101101001011001000110111001101001011001110110100001110100"
      ]
     },
     "execution_count": 4,
     "metadata": {},
     "output_type": "execute_result"
    }
   ],
   "source": [
    "P"
   ]
  },
  {
   "cell_type": "code",
   "execution_count": 5,
   "metadata": {},
   "outputs": [],
   "source": [
    "d=  S.brute_force(C)"
   ]
  },
  {
   "cell_type": "code",
   "execution_count": 6,
   "metadata": {},
   "outputs": [
    {
     "name": "stdout",
     "output_type": "stream",
     "text": [
      "True\n",
      "1\n"
     ]
    }
   ],
   "source": [
    "for i in range(0,len(list(d.values()))):\n",
    "    if list(d.values())[i] == P:\n",
    "        print(True)\n",
    "        print(i)"
   ]
  },
  {
   "cell_type": "markdown",
   "metadata": {},
   "source": [
    "**Substitution Cipher**: \n",
    "\n",
    "For this cryptosystem $\\mathcal{{P} = {C}} = {\\mathbb{Z}_{26}}$. The keyspace $\\mathcal{K}$ is consists of all possible permutation of the $26$ symbols $0,1,\\cdots,25$, so $\\mathcal{K} = {26!}$.For each permutation $\\pi \\to \\mathcal{K}$,\n",
    "\n",
    "* Encryption rule : $e_{\\pi}(x) = \\pi(x)$.\n",
    "\n",
    "* Decryption rule : $d_{\\pi}(y) = {\\pi}^{-1}(y)$, where ${\\pi}^{-1}$ is the inverse permutation to $\\pi$ with $x$ as plaintext & $y$ as ciphertext.\n",
    "\n"
   ]
  },
  {
   "cell_type": "code",
   "execution_count": 7,
   "metadata": {},
   "outputs": [
    {
     "data": {
      "text/plain": [
       "WEWILLMEETATMIDNIGHT"
      ]
     },
     "execution_count": 7,
     "metadata": {},
     "output_type": "execute_result"
    }
   ],
   "source": [
    "S = SubstitutionCryptosystem(AlphabeticStrings())\n",
    "S\n",
    "P = S.encoding(\"wewillmeetatmidnight\"); # this is just encoding the string monoid over the shift cipher S \n",
    "P\n",
    "K = S.random_key() # here generate a random key\n",
    "K\n",
    "C = S.enciphering(K,P) #encrypting the given plaintext\n",
    "C\n",
    "D = S.deciphering(K,C); #decrypt the plaintext\n",
    "D"
   ]
  },
  {
   "cell_type": "code",
   "execution_count": 8,
   "metadata": {},
   "outputs": [
    {
     "data": {
      "text/plain": [
       "True"
      ]
     },
     "execution_count": 8,
     "metadata": {},
     "output_type": "execute_result"
    }
   ],
   "source": [
    "S = SubstitutionCryptosystem(BinaryStrings())\n",
    "S\n",
    "P = S.encoding(\"wewillmeetatmidnight\"); # this is just encoding the string monoid over the shift cipher S \n",
    "P\n",
    "K = S.random_key() \n",
    "K\n",
    "C = S.enciphering(K,P) #encrypting the given plaintext\n",
    "C\n",
    "D = S.deciphering(K,C); #decrypt the plaintext\n",
    "D\n",
    "D == P"
   ]
  },
  {
   "cell_type": "code",
   "execution_count": 9,
   "metadata": {},
   "outputs": [
    {
     "data": {
      "text/html": [
       "<html><script type=\"math/tex; mode=display\">\\newcommand{\\Bold}[1]{\\mathbf{#1}}\\verb|Substitution|\\phantom{\\verb!x!}\\verb|cryptosystem|\\phantom{\\verb!x!}\\verb|on|\\phantom{\\verb!x!}\\verb|Free|\\phantom{\\verb!x!}\\verb|hexadecimal|\\phantom{\\verb!x!}\\verb|string|\\phantom{\\verb!x!}\\verb|monoid|</script></html>"
      ],
      "text/latex": [
       "$$\\newcommand{\\Bold}[1]{\\mathbf{#1}}\\verb|Substitution|\\phantom{\\verb!x!}\\verb|cryptosystem|\\phantom{\\verb!x!}\\verb|on|\\phantom{\\verb!x!}\\verb|Free|\\phantom{\\verb!x!}\\verb|hexadecimal|\\phantom{\\verb!x!}\\verb|string|\\phantom{\\verb!x!}\\verb|monoid|$$"
      ],
      "text/plain": [
       "Substitution cryptosystem on Free hexadecimal string monoid"
      ]
     },
     "metadata": {},
     "output_type": "display_data"
    },
    {
     "data": {
      "text/html": [
       "<html><script type=\"math/tex; mode=display\">\\newcommand{\\Bold}[1]{\\mathbf{#1}}776577696c6c6d65657461746d69646e69676874</script></html>"
      ],
      "text/latex": [
       "$$\\newcommand{\\Bold}[1]{\\mathbf{#1}}776577696c6c6d65657461746d69646e69676874$$"
      ],
      "text/plain": [
       "776577696c6c6d65657461746d69646e69676874"
      ]
     },
     "metadata": {},
     "output_type": "display_data"
    },
    {
     "data": {
      "text/html": [
       "<html><script type=\"math/tex; mode=display\">\\newcommand{\\Bold}[1]{\\mathbf{#1}}8796240fb3e1c5da</script></html>"
      ],
      "text/latex": [
       "$$\\newcommand{\\Bold}[1]{\\mathbf{#1}}8796240fb3e1c5da$$"
      ],
      "text/plain": [
       "8796240fb3e1c5da"
      ]
     },
     "metadata": {},
     "output_type": "display_data"
    },
    {
     "data": {
      "text/html": [
       "<html><script type=\"math/tex; mode=display\">\\newcommand{\\Bold}[1]{\\mathbf{#1}}ff04ff030c0c050404f207f20503020d030f0bf2</script></html>"
      ],
      "text/latex": [
       "$$\\newcommand{\\Bold}[1]{\\mathbf{#1}}ff04ff030c0c050404f207f20503020d030f0bf2$$"
      ],
      "text/plain": [
       "ff04ff030c0c050404f207f20503020d030f0bf2"
      ]
     },
     "metadata": {},
     "output_type": "display_data"
    },
    {
     "data": {
      "text/html": [
       "<html><script type=\"math/tex; mode=display\">\\newcommand{\\Bold}[1]{\\mathbf{#1}}776577696c6c6d65657461746d69646e69676874</script></html>"
      ],
      "text/latex": [
       "$$\\newcommand{\\Bold}[1]{\\mathbf{#1}}776577696c6c6d65657461746d69646e69676874$$"
      ],
      "text/plain": [
       "776577696c6c6d65657461746d69646e69676874"
      ]
     },
     "metadata": {},
     "output_type": "display_data"
    },
    {
     "data": {
      "text/plain": [
       "True"
      ]
     },
     "execution_count": 9,
     "metadata": {},
     "output_type": "execute_result"
    }
   ],
   "source": [
    "S = SubstitutionCryptosystem(HexadecimalStrings())\n",
    "show(S)\n",
    "\n",
    "#S.alphabet_size() # this will tells us how many elements are there in the corresponding cryptosystem\n",
    "P = S.encoding(\"wewillmeetatmidnight\"); # this is just encoding the string monoid over the shift cipher S \n",
    "show(P)\n",
    "K = S.random_key() \n",
    "show(K)\n",
    "C = S.enciphering(K,P) #encrypting the given plaintext\n",
    "show(C)\n",
    "D = S.deciphering(K,C); #decrypt the plaintext\n",
    "show(D)\n",
    "D == P"
   ]
  },
  {
   "cell_type": "markdown",
   "metadata": {},
   "source": [
    "**Affine cipher** :\n",
    "\n",
    "For this cryptosystem $\\mathcal{{P} = {C}} = \\mathbb{Z}_{26}$. The keyspace $\\mathcal{K}$ is $[(a,b) \\to \\mathbb{Z}_{26} \\times \\mathbb{Z}_{26} : gcd(a,26) = 1]$. For key $k = (a,b) \\to \\mathcal{K}$, \n",
    "\n",
    "* Encryption rule is : $e_{k}(x) = (ax +b)$ mod $26$, $x$ is plaintext.\n",
    "\n",
    "* Decryption rule is : $d_{k}(x) = a^{-1}(y -b)$ mod $26$, $y$ is ciphertext.\n",
    "\n",
    "**Note:** The number of keys in affine cipher over $Z_{m}$ is $m.{\\phi(m)}$."
   ]
  },
  {
   "cell_type": "code",
   "execution_count": 10,
   "metadata": {},
   "outputs": [
    {
     "data": {
      "text/html": [
       "<html><script type=\"math/tex; mode=display\">\\newcommand{\\Bold}[1]{\\mathbf{#1}}IWILLCALLYOUBACK</script></html>"
      ],
      "text/latex": [
       "$$\\newcommand{\\Bold}[1]{\\mathbf{#1}}IWILLCALLYOUBACK$$"
      ],
      "text/plain": [
       "IWILLCALLYOUBACK"
      ]
     },
     "metadata": {},
     "output_type": "display_data"
    },
    {
     "data": {
      "text/html": [
       "<html><script type=\"math/tex; mode=display\">\\newcommand{\\Bold}[1]{\\mathbf{#1}}\\left(17, 11\\right)</script></html>"
      ],
      "text/latex": [
       "$$\\newcommand{\\Bold}[1]{\\mathbf{#1}}\\left(17, 11\\right)$$"
      ],
      "text/plain": [
       "(17, 11)"
      ]
     },
     "metadata": {},
     "output_type": "display_data"
    },
    {
     "data": {
      "text/html": [
       "<html><script type=\"math/tex; mode=display\">\\newcommand{\\Bold}[1]{\\mathbf{#1}}RVRQQTLQQDPNCLTZ</script></html>"
      ],
      "text/latex": [
       "$$\\newcommand{\\Bold}[1]{\\mathbf{#1}}RVRQQTLQQDPNCLTZ$$"
      ],
      "text/plain": [
       "RVRQQTLQQDPNCLTZ"
      ]
     },
     "metadata": {},
     "output_type": "display_data"
    },
    {
     "data": {
      "text/html": [
       "<html><script type=\"math/tex; mode=display\">\\newcommand{\\Bold}[1]{\\mathbf{#1}}IWILLCALLYOUBACK</script></html>"
      ],
      "text/latex": [
       "$$\\newcommand{\\Bold}[1]{\\mathbf{#1}}IWILLCALLYOUBACK$$"
      ],
      "text/plain": [
       "IWILLCALLYOUBACK"
      ]
     },
     "metadata": {},
     "output_type": "display_data"
    },
    {
     "data": {
      "text/plain": [
       "True"
      ]
     },
     "execution_count": 10,
     "metadata": {},
     "output_type": "execute_result"
    }
   ],
   "source": [
    "S = AffineCryptosystem(AlphabeticStrings())\n",
    "S\n",
    "\n",
    "#S.alphabet_size() # this will tells us how many elements are there in the corresponding cryptosystem\n",
    "P = S.encoding(\"Iwillcallyouback\"); # this is just encoding the string monoid over the shift cipher S \n",
    "show(P)\n",
    "# K = S.random_key() \n",
    "K = (17,11) #gcd(a = K[0],26) should be  1\n",
    "show(K)\n",
    "C = S.enciphering(K[0],K[1],P) #encrypting the given plaintext\n",
    "show(C)\n",
    "D = S.deciphering(K[0],K[1],C); #decrypt the plaintext\n",
    "show(D)\n",
    "D == P"
   ]
  },
  {
   "cell_type": "markdown",
   "metadata": {},
   "source": [
    "**Vigener cipher**:\n",
    "\n",
    "In this cryptosystem $\\mathcal{{P} = {C} = {K}}= {(\\mathbb{Z}_{26})}^m$ for  a $m$ positive integer. For a key $k = (k_1,k_2, \\cdots, k_{m})$,\n",
    "* Encryption rule : $e_{k}(x_1,x_2,\\cdots, x_{m}) = (x_1+k_1,x_2+k_2,\\cdots, x_{m} + k_{m})$, $x$ is plaintext and \n",
    "\n",
    "* Decryption rule : $d_{k}(y_1,y_2,\\cdots,y_{m}) = (y_1 -k_1,y_2 - k_2, \\cdots, y_{m} - k_{m})$,$y$  is ciphertext,\n",
    "\n",
    "all these operations are performed in $Z_{26}$.\n",
    "\n",
    "**Note**: This is a polyalphabetic cryptosystem."
   ]
  },
  {
   "cell_type": "code",
   "execution_count": 11,
   "metadata": {},
   "outputs": [
    {
     "data": {
      "text/plain": [
       "True"
      ]
     },
     "execution_count": 11,
     "metadata": {},
     "output_type": "execute_result"
    }
   ],
   "source": [
    "V = AlphabeticStrings()\n",
    "S = VigenereCryptosystem(V,6)\n",
    "P = S.encoding(\"thiscryptosystemisnotsecure\")\n",
    "\n",
    "#K = S.random_key()\n",
    "\n",
    "K = V('CIPHER')\n",
    "K\n",
    "C = S.enciphering(K,P)\n",
    "C\n",
    "D = S.deciphering(K,C)\n",
    "D\n",
    "D == P"
   ]
  },
  {
   "cell_type": "code",
   "execution_count": 12,
   "metadata": {},
   "outputs": [
    {
     "data": {
      "text/plain": [
       "True"
      ]
     },
     "execution_count": 12,
     "metadata": {},
     "output_type": "execute_result"
    }
   ],
   "source": [
    "V = HexadecimalStrings()\n",
    "S = VigenereCryptosystem(V,6)\n",
    "P = S.encoding(\"thiscryptosystemisnotsecure\")\n",
    "# S.alphabet_size() # this will tells us how many elements are there in the corresponding cryptosystem\n",
    "#K = S.random_key()\n",
    "#since in hexadecimal, there are only 16 alphabets, then always key will be \n",
    "# combination of 0 to 9 & a to f.\n",
    "K = S.random_key()\n",
    "K\n",
    "C = S.enciphering(K,P)\n",
    "C\n",
    "D = S.deciphering(K,C)\n",
    "D\n",
    "D == P"
   ]
  },
  {
   "cell_type": "code",
   "execution_count": 13,
   "metadata": {},
   "outputs": [
    {
     "data": {
      "text/plain": [
       "True"
      ]
     },
     "execution_count": 13,
     "metadata": {},
     "output_type": "execute_result"
    }
   ],
   "source": [
    "V = BinaryStrings()\n",
    "S = VigenereCryptosystem(V,6)\n",
    "P = S.encoding(\"thiscryptosystemisnotsecure\")\n",
    "\n",
    "#K = S.random_key()\n",
    "#since in hexadecimal, there are only 16 alphabets, then always key will be \n",
    "# combination of 0 to 9 & a to f.\n",
    "K = S.random_key()\n",
    "K\n",
    "C = S.enciphering(K,P)\n",
    "C\n",
    "D = S.deciphering(K,C)\n",
    "D\n",
    "D == P"
   ]
  },
  {
   "cell_type": "code",
   "execution_count": 14,
   "metadata": {},
   "outputs": [
    {
     "data": {
      "text/plain": [
       "True"
      ]
     },
     "execution_count": 14,
     "metadata": {},
     "output_type": "execute_result"
    }
   ],
   "source": [
    "ki = S.inverse_key(K)\n",
    "e = S(K)\n",
    "d = S(ki)\n",
    "e(d(V(\"100001\"))) == V(\"100001\") #e,d can interchange\n",
    "#this tells us that if we encode the string through the \n",
    "#given(alphabetic/binary/hexadecimal/octal/radix) Strings(),it will be same \n",
    "# with left hand, as decryption is the inverse of encryption rule."
   ]
  },
  {
   "cell_type": "markdown",
   "metadata": {},
   "source": [
    "**Hill Cipher**:\n",
    "\n",
    "In this cryptosystem $\\mathcal{{P} = {C}} = {(\\mathbb{Z}_{26})}^m$ for $m \\ge 2$ integer. The keyspace is  $\\mathcal{K}$ = $m \\times m$ invertible matrices over $\\mathbb{Z}_{26}$. Then, for a key $K \\to \\mathcal{K}$, \n",
    "\n",
    "* Encryption rule : $e_{k}(x) = xK$, $x$ is plaintext,\n",
    "\n",
    "* Decryption rule : $d_{k}(x) = yK^{-1}$, $y$ is ciphertext,\n",
    "\n",
    "where all operations are performed in $Z_{26}$."
   ]
  },
  {
   "cell_type": "code",
   "execution_count": 15,
   "metadata": {},
   "outputs": [
    {
     "data": {
      "text/plain": [
       "True"
      ]
     },
     "execution_count": 15,
     "metadata": {},
     "output_type": "execute_result"
    }
   ],
   "source": [
    "V = AlphabeticStrings()\n",
    "S = HillCryptosystem(V,6)\n",
    "P = S.encoding(\"good da\") #when we encode some string, need to care that,\n",
    "# the string should be multiple of the positive integer m =6,here\n",
    "\n",
    "\n",
    "#K = S.random_key()\n",
    "#since in hexadecimal, there are only 16 alphabets, then always key will be \n",
    "# combination of 0 to 9 & a to f.\n",
    "K = S.random_key()\n",
    "K\n",
    "C = S.enciphering(K,P)\n",
    "C\n",
    "D = S.deciphering(K,C)\n",
    "D\n",
    "D == P"
   ]
  },
  {
   "cell_type": "code",
   "execution_count": 16,
   "metadata": {},
   "outputs": [
    {
     "data": {
      "text/plain": [
       "True"
      ]
     },
     "execution_count": 16,
     "metadata": {},
     "output_type": "execute_result"
    }
   ],
   "source": [
    "V = AlphabeticStrings()\n",
    "S = HillCryptosystem(V,3)\n",
    "P = S.encoding(\"Good day,mate! How was the tour?\")\n",
    "\n",
    "#K = S.random_key()\n",
    "#since in hexadecimal, there are only 16 alphabets, then always key will be \n",
    "# combination of 0 to 9 & a to f.\n",
    "R = IntegerModRing(26) #26 is as we do all operation under Z_26\n",
    "M = MatrixSpace(R,3,3) #3,3 is the order of the matrix\n",
    "\n",
    "K = M([[0,3,89],[2,5,20],[3,13,31]]) #remind that this matrix has to be invertible.\n",
    "K\n",
    "C = S.enciphering(K,P)\n",
    "C\n",
    "D = S.deciphering(K,C)\n",
    "D\n",
    "D == P"
   ]
  },
  {
   "cell_type": "code",
   "execution_count": 17,
   "metadata": {},
   "outputs": [
    {
     "data": {
      "text/plain": [
       "True"
      ]
     },
     "execution_count": 17,
     "metadata": {},
     "output_type": "execute_result"
    }
   ],
   "source": [
    "V = BinaryStrings()\n",
    "S = HillCryptosystem(V,3)\n",
    "P = S.encoding(\"101\")\n",
    "\n",
    "#K = S.random_key()\n",
    "#since in hexadecimal, there are only 16 alphabets, then always key will be \n",
    "# combination of 0 to 9 & a to f.\n",
    "R = IntegerModRing(2) #26 is as we do all operation under Z_26\n",
    "M = MatrixSpace(R,3,3) #3,3 is the order of the matrix\n",
    "\n",
    "K = M([[0,3,89],[2,5,20],[3,13,31]]) #remind that this matrix has to be invertible.\n",
    "K\n",
    "C = S.enciphering(K,P)\n",
    "C\n",
    "D = S.deciphering(K,C)\n",
    "#D\n",
    "D == P"
   ]
  },
  {
   "cell_type": "code",
   "execution_count": 18,
   "metadata": {},
   "outputs": [
    {
     "data": {
      "text/plain": [
       "True"
      ]
     },
     "execution_count": 18,
     "metadata": {},
     "output_type": "execute_result"
    }
   ],
   "source": [
    "V = HexadecimalStrings()\n",
    "S = HillCryptosystem(V,3)\n",
    "P = S.encoding(\"abc\")\n",
    "\n",
    "#K = S.random_key()\n",
    "#since in hexadecimal, there are only 16 alphabets, then always key will be \n",
    "# combination of 0 to 9 & a to f.\n",
    "R = IntegerModRing(16) #26 is as we do all operation under Z_26, \n",
    "# so when we change the strings, like when we give hexadecimal, \n",
    "#then we need to give it 16,for binary need to give 2 instead of 26.\n",
    "M = MatrixSpace(R,3,3) #3,3 is the order of the matrix\n",
    "\n",
    "K = M([[0,3,6],[2,5,27],[89,57,31]])\n",
    "K\n",
    "C = S.enciphering(K,P)\n",
    "C\n",
    "D = S.deciphering(K,C)\n",
    "D\n",
    "\n",
    "D == P"
   ]
  },
  {
   "cell_type": "markdown",
   "metadata": {},
   "source": [
    "**Permutation(Transposition) cipher**:\n",
    "\n",
    "In this cryptosystem $\\mathcal{{P} = {C}} = (\\mathbb{Z}_{26})^m$, for some positive $m \\to \\mathbb{Z}$. The keyspace is $\\mathcal{K} = m!$. For a key i.e. a permutation  $\\pi \\to (\\mathbb{Z}_{26})^m$,\n",
    "\n",
    "* Encryption rule : $e_{\\pi}(x_1, \\cdots, x_{m}) = (x_{{\\pi}_1}, \\cdots, x_{{\\pi}_m}$, $x$ is the plaintext.\n",
    "\n",
    "* Decryption rule : $d_{\\pi}(y_1, \\cdots, y_m) = (y_{{\\pi}^{-1}_1},\\cdots, y_{{\\pi}^{-1}_m})$, $y$ is the ciphertext\n",
    "\n",
    "where ${\\pi}^{-1}$ is the inverse permutation  of $\\pi$."
   ]
  },
  {
   "cell_type": "code",
   "execution_count": 19,
   "metadata": {},
   "outputs": [
    {
     "data": {
      "text/plain": [
       "ICT"
      ]
     },
     "execution_count": 19,
     "metadata": {},
     "output_type": "execute_result"
    }
   ],
   "source": [
    "V = AlphabeticStrings()\n",
    "m = 3\n",
    "S = TranspositionCryptosystem(V,m)\n",
    "P = S.encoding(\"ICT\") #given string must be multiple of m\n",
    "\n",
    "K = S.random_key()\n",
    "#since in hexadecimal, there are only 16 alphabets, then always key will be \n",
    "# combination of 0 to 9 & a to f.\n",
    "# K = [m - i for i in  range(m)] #using this we can create our own key\n",
    "K\n",
    "C = S.enciphering(K,P)\n",
    "C\n",
    "D = S.deciphering(K,C)\n",
    "D\n",
    "# for checking ,D == P"
   ]
  },
  {
   "cell_type": "code",
   "execution_count": 20,
   "metadata": {},
   "outputs": [
    {
     "data": {
      "text/html": [
       "<html><script type=\"math/tex; mode=display\">\\newcommand{\\Bold}[1]{\\mathbf{#1}}(1,2,3)</script></html>"
      ],
      "text/latex": [
       "$$\\newcommand{\\Bold}[1]{\\mathbf{#1}}(1,2,3)$$"
      ],
      "text/plain": [
       "(1,2,3)"
      ]
     },
     "metadata": {},
     "output_type": "display_data"
    },
    {
     "data": {
      "text/plain": [
       "True"
      ]
     },
     "execution_count": 20,
     "metadata": {},
     "output_type": "execute_result"
    }
   ],
   "source": [
    "V = HexadecimalStrings()\n",
    "m = 3\n",
    "S = TranspositionCryptosystem(V,m)\n",
    "P = S.encoding(\"Goodda\") #given string must be multiple of m\n",
    "\n",
    "K = S.random_key()\n",
    "#since in hexadecimal, there are only 16 alphabets, then always key will be \n",
    "# combination of 0 to 9 & a to f.\n",
    "#K = [(m - i for i in  range(m))] #using this we can create our own key\n",
    "show(K)\n",
    "C = S.enciphering(K,P)\n",
    "C\n",
    "D = S.deciphering(K,C)\n",
    "D\n",
    "D == P"
   ]
  },
  {
   "cell_type": "code",
   "execution_count": 21,
   "metadata": {},
   "outputs": [
    {
     "data": {
      "text/plain": [
       "True"
      ]
     },
     "execution_count": 21,
     "metadata": {},
     "output_type": "execute_result"
    }
   ],
   "source": [
    "V = BinaryStrings()\n",
    "m = 3\n",
    "S = TranspositionCryptosystem(V,m)\n",
    "P = S.encoding(\"Goodda\") #given string must be multiple of m\n",
    "\n",
    "K = S.random_key()\n",
    "#since in hexadecimal, there are only 16 alphabets, then always key will be \n",
    "# combination of 0 to 9 & a to f.\n",
    "# K = [m - i for i in  range(m)] #using this we can create our own key\n",
    "K\n",
    "C = S.enciphering(K,P)\n",
    "C\n",
    "D = S.deciphering(K,C)\n",
    "D\n",
    "D == P"
   ]
  },
  {
   "cell_type": "code",
   "execution_count": 22,
   "metadata": {},
   "outputs": [
    {
     "data": {
      "text/plain": [
       "True"
      ]
     },
     "execution_count": 22,
     "metadata": {},
     "output_type": "execute_result"
    }
   ],
   "source": [
    "V = OctalStrings()\n",
    "m = 3\n",
    "S = TranspositionCryptosystem(V,m)\n",
    "M = \"257\"\n",
    "P = V(M) #given string must be multiple of m\n",
    "\n",
    "K = S.random_key()\n",
    "#since in hexadecimal, there are only 16 alphabets, then always key will be \n",
    "# combination of 0 to 9 & a to f.\n",
    "# K = [m - i for i in  range(m)] #using this we can create our own key\n",
    "K\n",
    "C = S.enciphering(K,P)\n",
    "C\n",
    "D = S.deciphering(K,C)\n",
    "D\n",
    "D == P"
   ]
  },
  {
   "cell_type": "code",
   "execution_count": null,
   "metadata": {},
   "outputs": [],
   "source": []
  },
  {
   "cell_type": "markdown",
   "metadata": {},
   "source": [
    "#### RSA algorithm in for encryption and decryption.\n",
    "\n",
    "$1$. Choose two primes p and q and let n = pq.\n",
    "\n",
    "$2$.Let e $\\in \\mathbb{Z}$ be positive such that gcd($e,\\phi(n)$) = 1.\n",
    "\n",
    "$3$.Let d $\\in \\mathbb{Z}$ be the multiplicative inverse of $e$ modulo $\\phi(n)$.\n",
    "\n",
    "$4$. Our public key is the pair $(n,e)$ and our private key is the pair $(n,d)$.\n",
    "\n",
    "$5$.For any non-zero integer $m <n$, encrypt $m$ using $c = m^{e}$ (mod $n$).\n",
    "\n",
    "$6$. Decrypt $c$ using $m = c^{d}$ (mod $n)$."
   ]
  },
  {
   "cell_type": "code",
   "execution_count": 23,
   "metadata": {},
   "outputs": [
    {
     "data": {
      "text/html": [
       "<html><script type=\"math/tex; mode=display\">\\newcommand{\\Bold}[1]{\\mathbf{#1}}35721808462523611266646549591</script></html>"
      ],
      "text/latex": [
       "$$\\newcommand{\\Bold}[1]{\\mathbf{#1}}35721808462523611266646549591$$"
      ],
      "text/plain": [
       "35721808462523611266646549591"
      ]
     },
     "metadata": {},
     "output_type": "display_data"
    },
    {
     "data": {
      "text/html": [
       "<html><script type=\"math/tex; mode=display\">\\newcommand{\\Bold}[1]{\\mathbf{#1}}555347389800294322712192994700359927589</script></html>"
      ],
      "text/latex": [
       "$$\\newcommand{\\Bold}[1]{\\mathbf{#1}}555347389800294322712192994700359927589$$"
      ],
      "text/plain": [
       "555347389800294322712192994700359927589"
      ]
     },
     "metadata": {},
     "output_type": "display_data"
    },
    {
     "data": {
      "text/html": [
       "<html><script type=\"math/tex; mode=display\">\\newcommand{\\Bold}[1]{\\mathbf{#1}}19838013088608552377353161733890680209415024601895127496409457566099</script></html>"
      ],
      "text/latex": [
       "$$\\newcommand{\\Bold}[1]{\\mathbf{#1}}19838013088608552377353161733890680209415024601895127496409457566099$$"
      ],
      "text/plain": [
       "19838013088608552377353161733890680209415024601895127496409457566099"
      ]
     },
     "metadata": {},
     "output_type": "display_data"
    },
    {
     "data": {
      "text/html": [
       "<html><script type=\"math/tex; mode=display\">\\newcommand{\\Bold}[1]{\\mathbf{#1}}4992519480740022193138685216579876779103516689633225213699120325768</script></html>"
      ],
      "text/latex": [
       "$$\\newcommand{\\Bold}[1]{\\mathbf{#1}}4992519480740022193138685216579876779103516689633225213699120325768$$"
      ],
      "text/plain": [
       "4992519480740022193138685216579876779103516689633225213699120325768"
      ]
     },
     "metadata": {},
     "output_type": "display_data"
    }
   ],
   "source": [
    "p = next_prime(randint(10^20,10^30))\n",
    "show(p)\n",
    "q = next_prime(randint(10^20,10^39))\n",
    "show(q)\n",
    "is_prime(p);is_prime(q)\n",
    "n = p*q\n",
    "show(n)\n",
    "e = ZZ.random_element(1,euler_phi(n))\n",
    "show(e)"
   ]
  },
  {
   "cell_type": "markdown",
   "metadata": {},
   "source": [
    "ZZ.random_element()\n",
    "*  if no input is given , it returns one random integer.\n",
    "* if one input is given , it return an integer between 0 to n-1 "
   ]
  },
  {
   "cell_type": "code",
   "execution_count": 24,
   "metadata": {},
   "outputs": [],
   "source": [
    "while gcd(e,euler_phi(n)) != 1:\n",
    "    e = ZZ.random_element(euler_phi(n))"
   ]
  },
  {
   "cell_type": "code",
   "execution_count": 25,
   "metadata": {},
   "outputs": [
    {
     "data": {
      "text/plain": [
       "18265420309859201265343005928204050226741875159077218129492083340709"
      ]
     },
     "execution_count": 25,
     "metadata": {},
     "output_type": "execute_result"
    }
   ],
   "source": [
    "e"
   ]
  },
  {
   "cell_type": "code",
   "execution_count": 26,
   "metadata": {},
   "outputs": [
    {
     "data": {
      "text/plain": [
       "True"
      ]
     },
     "execution_count": 26,
     "metadata": {},
     "output_type": "execute_result"
    }
   ],
   "source": [
    "bool(e <n)"
   ]
  },
  {
   "cell_type": "code",
   "execution_count": 27,
   "metadata": {},
   "outputs": [
    {
     "data": {
      "text/plain": [
       "5739187852539587518585478151912079451178635827020130280157366658829"
      ]
     },
     "execution_count": 27,
     "metadata": {},
     "output_type": "execute_result"
    }
   ],
   "source": [
    "d = inverse_mod(e,euler_phi(n))\n",
    "d"
   ]
  },
  {
   "cell_type": "code",
   "execution_count": 28,
   "metadata": {},
   "outputs": [
    {
     "data": {
      "text/plain": [
       "True"
      ]
     },
     "execution_count": 28,
     "metadata": {},
     "output_type": "execute_result"
    }
   ],
   "source": [
    "mod(d*e,euler_phi(n))  ==1"
   ]
  },
  {
   "cell_type": "code",
   "execution_count": 29,
   "metadata": {},
   "outputs": [
    {
     "data": {
      "text/plain": [
       "220493635236657893887831846356762493387911039332383252793893225496"
      ]
     },
     "execution_count": 29,
     "metadata": {},
     "output_type": "execute_result"
    }
   ],
   "source": [
    "m = ZZ.random_element(n) #plaintext\n",
    "m"
   ]
  },
  {
   "cell_type": "code",
   "execution_count": 30,
   "metadata": {},
   "outputs": [
    {
     "data": {
      "text/plain": [
       "True"
      ]
     },
     "execution_count": 30,
     "metadata": {},
     "output_type": "execute_result"
    }
   ],
   "source": [
    "m < n"
   ]
  },
  {
   "cell_type": "code",
   "execution_count": 31,
   "metadata": {},
   "outputs": [
    {
     "data": {
      "text/plain": [
       "16543609564518855078122784340302011768232781276644193310078505746474"
      ]
     },
     "execution_count": 31,
     "metadata": {},
     "output_type": "execute_result"
    }
   ],
   "source": [
    "ciphertext = power_mod(m,e,n)\n",
    "ciphertext"
   ]
  },
  {
   "cell_type": "code",
   "execution_count": 32,
   "metadata": {},
   "outputs": [
    {
     "data": {
      "text/plain": [
       "True"
      ]
     },
     "execution_count": 32,
     "metadata": {},
     "output_type": "execute_result"
    }
   ],
   "source": [
    "power_mod(ciphertext,d,n) == m"
   ]
  },
  {
   "cell_type": "markdown",
   "metadata": {},
   "source": [
    "# Primality Testing"
   ]
  },
  {
   "cell_type": "markdown",
   "metadata": {},
   "source": [
    "### Euler's Criterion for Quadratic Residues"
   ]
  },
  {
   "cell_type": "markdown",
   "metadata": {},
   "source": [
    "Let p be an odd prime. Then $a$ is quadratic residue modulo p if and only if $a^{\\frac{p-1}{2}} \\equiv 1$ (mod p)."
   ]
  },
  {
   "cell_type": "code",
   "execution_count": 33,
   "metadata": {},
   "outputs": [
    {
     "data": {
      "text/plain": [
       "True"
      ]
     },
     "execution_count": 33,
     "metadata": {},
     "output_type": "execute_result"
    }
   ],
   "source": [
    "p = 293\n",
    "p.is_prime()\n",
    " "
   ]
  },
  {
   "cell_type": "code",
   "execution_count": 34,
   "metadata": {},
   "outputs": [
    {
     "data": {
      "text/plain": [
       "1"
      ]
     },
     "execution_count": 34,
     "metadata": {},
     "output_type": "execute_result"
    }
   ],
   "source": [
    "a = 45482\n",
    "(a**((p-1)/2))%p\n",
    "# so a is quadratic residue modulo p"
   ]
  },
  {
   "cell_type": "code",
   "execution_count": 35,
   "metadata": {},
   "outputs": [
    {
     "data": {
      "text/plain": [
       "292"
      ]
     },
     "execution_count": 35,
     "metadata": {},
     "output_type": "execute_result"
    }
   ],
   "source": [
    "a1 = 33354653\n",
    "(a1**((p-1)/2))%p\n",
    "# so a1 is not a quadratic rsidue modulo p"
   ]
  },
  {
   "cell_type": "code",
   "execution_count": null,
   "metadata": {},
   "outputs": [],
   "source": []
  },
  {
   "cell_type": "markdown",
   "metadata": {},
   "source": [
    "### Legendre Symbol $\\left(\\frac{a}{p}\\right)$\n",
    "\n",
    "Suppose  p is an odd prime. For any integer $a$, define the Legendre Symbol $\\left(\\frac{a}{p}\\right)$ as :\n",
    "\n",
    "$\\left(\\frac{a}{p}\\right) = \\begin{cases}\n",
    "0,~~~~~~~ \\mbox{a $\\equiv$ 0 modulo p}\\\\\n",
    "1, ~~~~~~~  \\textrm{a is quadratic residue modulo p}\\\\\n",
    "-1,~~~~~~  \\mbox{a is quadratic non-residue modulo p}\n",
    "\\end{cases}$\n",
    "\n"
   ]
  },
  {
   "cell_type": "code",
   "execution_count": 36,
   "metadata": {},
   "outputs": [
    {
     "data": {
      "text/plain": [
       "False"
      ]
     },
     "execution_count": 36,
     "metadata": {},
     "output_type": "execute_result"
    }
   ],
   "source": [
    "p = 2847\n",
    "p.is_prime()"
   ]
  },
  {
   "cell_type": "code",
   "execution_count": 37,
   "metadata": {},
   "outputs": [
    {
     "data": {
      "text/html": [
       "<html><script type=\"math/tex; mode=display\">\\newcommand{\\Bold}[1]{\\mathbf{#1}}2851</script></html>"
      ],
      "text/latex": [
       "$$\\newcommand{\\Bold}[1]{\\mathbf{#1}}2851$$"
      ],
      "text/plain": [
       "2851"
      ]
     },
     "metadata": {},
     "output_type": "display_data"
    },
    {
     "data": {
      "text/plain": [
       "1"
      ]
     },
     "execution_count": 37,
     "metadata": {},
     "output_type": "execute_result"
    }
   ],
   "source": [
    "p = p.next_prime()\n",
    "show(p)\n",
    "a = 25\n",
    "legendre_symbol(a,p)"
   ]
  },
  {
   "cell_type": "code",
   "execution_count": 38,
   "metadata": {},
   "outputs": [
    {
     "data": {
      "text/plain": [
       "-1"
      ]
     },
     "execution_count": 38,
     "metadata": {},
     "output_type": "execute_result"
    }
   ],
   "source": [
    "a = 790\n",
    "legendre_symbol(a,p)"
   ]
  },
  {
   "cell_type": "code",
   "execution_count": 39,
   "metadata": {},
   "outputs": [
    {
     "data": {
      "text/plain": [
       "0"
      ]
     },
     "execution_count": 39,
     "metadata": {},
     "output_type": "execute_result"
    }
   ],
   "source": [
    "a = 2*p\n",
    "legendre_symbol(a,p)\n"
   ]
  },
  {
   "cell_type": "code",
   "execution_count": 40,
   "metadata": {},
   "outputs": [
    {
     "ename": "ValueError",
     "evalue": "p must be a prime",
     "output_type": "error",
     "traceback": [
      "\u001b[0;31m---------------------------------------------------------------------------\u001b[0m",
      "\u001b[0;31mValueError\u001b[0m                                Traceback (most recent call last)",
      "\u001b[0;32m<ipython-input-40-e96f44f67754>\u001b[0m in \u001b[0;36m<module>\u001b[0;34m\u001b[0m\n\u001b[1;32m      1\u001b[0m \u001b[0;31m# it shows that p has to be a odd prime\u001b[0m\u001b[0;34m\u001b[0m\u001b[0;34m\u001b[0m\u001b[0;34m\u001b[0m\u001b[0m\n\u001b[0;32m----> 2\u001b[0;31m \u001b[0mlegendre_symbol\u001b[0m\u001b[0;34m(\u001b[0m\u001b[0mInteger\u001b[0m\u001b[0;34m(\u001b[0m\u001b[0;36m245\u001b[0m\u001b[0;34m)\u001b[0m\u001b[0;34m,\u001b[0m\u001b[0mInteger\u001b[0m\u001b[0;34m(\u001b[0m\u001b[0;36m56\u001b[0m\u001b[0;34m)\u001b[0m\u001b[0;34m)\u001b[0m\u001b[0;34m\u001b[0m\u001b[0;34m\u001b[0m\u001b[0m\n\u001b[0m",
      "\u001b[0;32m/opt/sagemath-9.3/local/lib/python3.7/site-packages/sage/arith/misc.py\u001b[0m in \u001b[0;36mlegendre_symbol\u001b[0;34m(x, p)\u001b[0m\n\u001b[1;32m   3923\u001b[0m     \u001b[0mp\u001b[0m \u001b[0;34m=\u001b[0m \u001b[0mZZ\u001b[0m\u001b[0;34m(\u001b[0m\u001b[0mp\u001b[0m\u001b[0;34m)\u001b[0m\u001b[0;34m\u001b[0m\u001b[0;34m\u001b[0m\u001b[0m\n\u001b[1;32m   3924\u001b[0m     \u001b[0;32mif\u001b[0m \u001b[0;32mnot\u001b[0m \u001b[0mp\u001b[0m\u001b[0;34m.\u001b[0m\u001b[0mis_prime\u001b[0m\u001b[0;34m(\u001b[0m\u001b[0;34m)\u001b[0m\u001b[0;34m:\u001b[0m\u001b[0;34m\u001b[0m\u001b[0;34m\u001b[0m\u001b[0m\n\u001b[0;32m-> 3925\u001b[0;31m         \u001b[0;32mraise\u001b[0m \u001b[0mValueError\u001b[0m\u001b[0;34m(\u001b[0m\u001b[0;34m\"p must be a prime\"\u001b[0m\u001b[0;34m)\u001b[0m\u001b[0;34m\u001b[0m\u001b[0;34m\u001b[0m\u001b[0m\n\u001b[0m\u001b[1;32m   3926\u001b[0m     \u001b[0;32mif\u001b[0m \u001b[0mp\u001b[0m \u001b[0;34m==\u001b[0m \u001b[0;36m2\u001b[0m\u001b[0;34m:\u001b[0m\u001b[0;34m\u001b[0m\u001b[0;34m\u001b[0m\u001b[0m\n\u001b[1;32m   3927\u001b[0m         \u001b[0;32mraise\u001b[0m \u001b[0mValueError\u001b[0m\u001b[0;34m(\u001b[0m\u001b[0;34m\"p must be odd\"\u001b[0m\u001b[0;34m)\u001b[0m\u001b[0;34m\u001b[0m\u001b[0;34m\u001b[0m\u001b[0m\n",
      "\u001b[0;31mValueError\u001b[0m: p must be a prime"
     ]
    }
   ],
   "source": [
    "# it shows that p has to be a odd prime\n",
    "legendre_symbol(245,56)"
   ]
  },
  {
   "cell_type": "markdown",
   "metadata": {},
   "source": [
    "### Solovay-Strassen test\n",
    "\n",
    "**Algorithm :**\n",
    "\n",
    "* input is a positive integer n.\n",
    "\n",
    "* Take a random number $1 \\le a \\le n-1$.\n",
    "\n",
    "* If (a,n) > 1, then n is composite.\n",
    "\n",
    "* Compute $a^{\\frac{n-1}{2}},\\left(\\frac{a}{p}\\right)$.\n",
    "\n",
    "* Check if $a^{\\frac{n-1}{2}}\\not= \\left(\\frac{a}{p}\\right)$(mod n).Then $n$ is composite. \n",
    "\n",
    "* else choose another $a$ and repeat the process.\n",
    "\n"
   ]
  },
  {
   "cell_type": "code",
   "execution_count": 43,
   "metadata": {},
   "outputs": [],
   "source": [
    "import random"
   ]
  },
  {
   "cell_type": "code",
   "execution_count": 44,
   "metadata": {},
   "outputs": [],
   "source": [
    "def solovay_strassen(n):\n",
    "    a = random.randint(1,n-1)\n",
    "    x = kronecker(a,n)\n",
    "    if (x==0):\n",
    "        print(f\"{n} is composite\")\n",
    "    s = ((n-1)/2)\n",
    "    y = (a**s) % n\n",
    "    if (x==y):\n",
    "        print(f\"{n} prime\")\n",
    "    else:\n",
    "         print(f\"{n} is composite\")"
   ]
  },
  {
   "cell_type": "code",
   "execution_count": 45,
   "metadata": {},
   "outputs": [
    {
     "name": "stdout",
     "output_type": "stream",
     "text": [
      "293 is composite\n"
     ]
    }
   ],
   "source": [
    "solovay_strassen(293)"
   ]
  },
  {
   "cell_type": "code",
   "execution_count": null,
   "metadata": {},
   "outputs": [],
   "source": []
  },
  {
   "cell_type": "markdown",
   "metadata": {},
   "source": [
    "###  Miller-Rabin  test\n",
    "\n",
    "If we have factorization for $n-1$, then this test wil work. \n",
    "\n",
    "Goal is to check $n$ is prime or not.\n",
    "\n",
    "Suppose $n-1 = 2^{k}m, k\\ge 1,m$ is odd.\n",
    "Choose a random integer $a, 1 \\le a \\le n-1$.\n",
    "\n",
    "Let $b = a^{m}$(mod $n$). If $b \\equiv 1$(mod $n)$, then $n$ is prime.\n",
    "\n",
    "Take $i = 1$, check if $b \\equiv -1$(mod $n)$, then $n$ is prime. \n",
    "\n",
    "Otherwise $b = b^2$(mod $n)$ and increase $i$ by 1 and repeat the process until $i$ reach $k$."
   ]
  },
  {
   "cell_type": "code",
   "execution_count": 46,
   "metadata": {},
   "outputs": [],
   "source": [
    "# Miller- Rabin test\n",
    "\n",
    "def miller_rabin(n):\n",
    "    if (n <=3) :\n",
    "        raise Exception('n should be greater than 3')\n",
    "    if (n%2 == 0):\n",
    "        return False\n",
    "    # find u odd such that n-1 = 2^k*u\n",
    "    u = n-1\n",
    "    k =0\n",
    "    while(u %2 ==0):\n",
    "        u //= 2\n",
    "        k += 1\n",
    "    a = random.randint(1,n-1) #select a randomly\n",
    "    b = pow(a,u,n)\n",
    "    if (b ==1 or b==n-1): #b==-1 is same as n-1\n",
    "        return True\n",
    "    for j in range(1,k):\n",
    "        b = (b*b)%n\n",
    "        if b == n-1: return True\n",
    "        if b ==1:\n",
    "            return False\n",
    "    return False"
   ]
  },
  {
   "cell_type": "code",
   "execution_count": 47,
   "metadata": {},
   "outputs": [
    {
     "data": {
      "text/plain": [
       "False"
      ]
     },
     "execution_count": 47,
     "metadata": {},
     "output_type": "execute_result"
    }
   ],
   "source": [
    "miller_rabin(3154050820)"
   ]
  },
  {
   "cell_type": "code",
   "execution_count": 48,
   "metadata": {},
   "outputs": [
    {
     "data": {
      "text/plain": [
       "True"
      ]
     },
     "execution_count": 48,
     "metadata": {},
     "output_type": "execute_result"
    }
   ],
   "source": [
    "miller_rabin(40530101879)"
   ]
  },
  {
   "cell_type": "code",
   "execution_count": 49,
   "metadata": {},
   "outputs": [
    {
     "data": {
      "text/plain": [
       "False"
      ]
     },
     "execution_count": 49,
     "metadata": {},
     "output_type": "execute_result"
    }
   ],
   "source": [
    "3154050820.is_prime()"
   ]
  },
  {
   "cell_type": "code",
   "execution_count": 50,
   "metadata": {},
   "outputs": [
    {
     "data": {
      "text/plain": [
       "True"
      ]
     },
     "execution_count": 50,
     "metadata": {},
     "output_type": "execute_result"
    }
   ],
   "source": [
    "40530101879.is_prime()"
   ]
  },
  {
   "cell_type": "markdown",
   "metadata": {},
   "source": [
    "## Factorization"
   ]
  },
  {
   "cell_type": "code",
   "execution_count": null,
   "metadata": {},
   "outputs": [],
   "source": []
  },
  {
   "cell_type": "markdown",
   "metadata": {},
   "source": [
    "**Pollard P-1 method :**\n",
    "\n",
    "In this algorithm has two inputs : the integer $n$ to be factorized and a prespecified bound B. \n",
    "\n",
    "$1$. Set $a = 2$, generally we choose this, another convenient $a$.\n",
    "\n",
    "$2$. Take $j = 2,3,\\cdots, B$ and compute $a =a^{j}$(mod $n$).\n",
    "\n",
    "$3$. compute $d = (a-1,n)$ where $(,)$ denotes gcd of two numbers.\n",
    "\n",
    "$4$. If $1 < d< n$, then $d$ is a divisor of $n$ and return $d$.\n",
    "\n",
    "$5$. Otherwise keep on increasing $j$ upto B. Otherwise we can change the value of $a$.\n",
    "\n",
    "Once we get one factor $d$ of $n$, easily we can compute other factor by $\\frac{n}{d}$."
   ]
  },
  {
   "cell_type": "code",
   "execution_count": 51,
   "metadata": {},
   "outputs": [],
   "source": [
    "def Pollard_algo(n,B):\n",
    "    a = 2  # generally we choose a = 2\n",
    "    for j in range(2,B,1):\n",
    "        a = (a**j)%n\n",
    "        d = gcd(a-1,n)\n",
    "        if (1 < d < n) and (d.is_prime() == True):\n",
    "            pass\n",
    "    print(d)"
   ]
  },
  {
   "cell_type": "code",
   "execution_count": 52,
   "metadata": {},
   "outputs": [
    {
     "data": {
      "text/plain": [
       "625 loops, best of 3: 340 μs per loop"
      ]
     },
     "execution_count": 52,
     "metadata": {},
     "output_type": "execute_result"
    }
   ],
   "source": [
    "timeit('Pollard_algo(15770708441,180)')"
   ]
  },
  {
   "cell_type": "code",
   "execution_count": 53,
   "metadata": {},
   "outputs": [
    {
     "data": {
      "text/plain": [
       "2 * 3 * 131 * 173"
      ]
     },
     "execution_count": 53,
     "metadata": {},
     "output_type": "execute_result"
    }
   ],
   "source": [
    "factor(135979-1)"
   ]
  },
  {
   "cell_type": "code",
   "execution_count": 54,
   "metadata": {},
   "outputs": [
    {
     "name": "stdout",
     "output_type": "stream",
     "text": [
      "135979\n"
     ]
    }
   ],
   "source": [
    "d1 = Pollard_algo(15770708441,180) #example is taken from book\n",
    "d1"
   ]
  },
  {
   "cell_type": "markdown",
   "metadata": {},
   "source": [
    "\n",
    "since d1-1 has highest factor 173, so for any integer greater than 173, d1-1 will divide the factorial(B)."
   ]
  },
  {
   "cell_type": "code",
   "execution_count": 55,
   "metadata": {},
   "outputs": [
    {
     "data": {
      "text/plain": [
       "0"
      ]
     },
     "execution_count": 55,
     "metadata": {},
     "output_type": "execute_result"
    }
   ],
   "source": [
    "(135979-1)//(factorial(180))"
   ]
  },
  {
   "cell_type": "code",
   "execution_count": 56,
   "metadata": {},
   "outputs": [
    {
     "data": {
      "text/plain": [
       "115979"
      ]
     },
     "execution_count": 56,
     "metadata": {},
     "output_type": "execute_result"
    }
   ],
   "source": [
    "d2 = 15770708441//135979\n",
    "d2"
   ]
  },
  {
   "cell_type": "markdown",
   "metadata": {},
   "source": [
    "So, $d1,d2$ are two factors of given $n = 15770708441$."
   ]
  },
  {
   "cell_type": "markdown",
   "metadata": {},
   "source": [
    "In the Pollard $p-1$ method, there are $B-1$ modular exponentiations, each requiring at most $2log_{2}B$ modular multiplications using the 'square and multiply algorithm'. The gcd can be computed in time $O((logn)^3)$ using the 'extended euclidean algorithm.Hence the complexity of the algorithm is $O(BlogB(logn)^2 + (logn)^3)$.  \n",
    "\n",
    "If the integer $O((logn)^i)$ for a fixed integer $i$, then the algorithm isindeed a polynomial-time algorithm(as a function of $log(n)$). \n",
    "\n",
    "However, for such a choice of $B$, the probability of success will be very small. On the other hand, if we increase the value of $B$,then this algorithm guaranteed to be successful but it's speed will be decreased.\n",
    "\n",
    "The drawback of this method is that it requires a prime factor $p$ such that $p-1$ has only small prime factors."
   ]
  },
  {
   "cell_type": "markdown",
   "metadata": {},
   "source": [
    "**Pollard Rho method :**\n",
    "\n",
    "We want to factor a integer $n$.\n",
    "\n",
    "Let S be a finite  set and take a function $f : S \\to S$. Choose $s_{0} \\in S$, compute $s_{i+1} = f(s_{i})  \\forall i = 1,2,\\cdots$.\n",
    "\n",
    "Store those values of the sequence in a list. Since S is finite, then $s_{i} \\equiv s_{j}$(mod $n)$. Using the fact that, $f$ is polynomial function of integer coefficients, then we get $f(s_{i}) \\equiv f(s_{j})$(mod $n$). so,  $s_{i+1}=s_{i+2}$(mod $n)$.\n",
    "So $\\exists, s_{i} \\equiv s_{2i}$(mod $n)$. Then $(s_{i}-s_{2i},n) = d$, is the non-trivial factor of $n$."
   ]
  },
  {
   "cell_type": "code",
   "execution_count": 57,
   "metadata": {},
   "outputs": [],
   "source": [
    "def f(x):\n",
    "    return x**2  + x +1\n",
    "\n",
    "\n",
    "def Pollard_rho(n):\n",
    "    seed = 2\n",
    "    X = [seed,f(seed)%n] #1st is s0, 2nd one is s1\n",
    "    X.append(f(X[1])%n) #append s2\n",
    "    k = 1\n",
    "    while gcd(X[2*k] - X[k],n) ==1:\n",
    "        for j in range(2):\n",
    "            X.append(f(X[2*k +j])%n)\n",
    "        k += 1\n",
    "    outfact = gcd(X[2*k] - X[k],n)\n",
    "    print([outfact,n/outfact])"
   ]
  },
  {
   "cell_type": "code",
   "execution_count": 58,
   "metadata": {},
   "outputs": [
    {
     "name": "stdout",
     "output_type": "stream",
     "text": [
      "[613, 743]\n"
     ]
    }
   ],
   "source": [
    "Pollard_rho(455459)"
   ]
  },
  {
   "cell_type": "markdown",
   "metadata": {},
   "source": [
    "## Elgamal Cryptosystem"
   ]
  },
  {
   "cell_type": "markdown",
   "metadata": {},
   "source": [
    "Suppose Alice  wants to send a message $x$ to Bob. \n",
    "\n",
    "From Bob's side there will be the key generation algorithm. \n",
    "\n",
    "**key generation algorithm :**\n",
    "\n",
    "* Choose a large prime p.\n",
    "\n",
    "* Choose a generator or primitive root $\\alpha$.\n",
    "\n",
    "* Choose $d \\in \\{2,3,\\cdots,p-2 \\}$, compute $\\beta = {\\alpha}^d ($mod$p)$. \n",
    "\n",
    "Now Alice will choose $i \\in \\{2,3,\\cdots,p-2\\}$ and then compute $k_{e} = {\\alpha}^{i}($mod$p)$. After that, compute the massking key $k_{m} = {\\beta}^{i}($mod$p)$. \n",
    "\n",
    "**Encryption function :**\n",
    "\n",
    "$E(x) = x \\times {\\alpha}^{i}($mod$p) = y$,say. The ciphertext is the orderd-pair $(k_{e},y)$ to be send to Bob from Alice. \n",
    "\n",
    "**Decryption process :**\n",
    "\n",
    "For decryption first Bob will compute $k_{m} = {(k_{e})}^{d}$. Then $D(x) = (y.(k_{m})^{-1})$(mod $p)$, that should be equal to $x$."
   ]
  },
  {
   "cell_type": "code",
   "execution_count": 59,
   "metadata": {},
   "outputs": [
    {
     "data": {
      "text/html": [
       "<html><script type=\"math/tex; mode=display\">\\newcommand{\\Bold}[1]{\\mathbf{#1}}19</script></html>"
      ],
      "text/latex": [
       "$$\\newcommand{\\Bold}[1]{\\mathbf{#1}}19$$"
      ],
      "text/plain": [
       "19"
      ]
     },
     "metadata": {},
     "output_type": "display_data"
    },
    {
     "data": {
      "text/html": [
       "<html><script type=\"math/tex; mode=display\">\\newcommand{\\Bold}[1]{\\mathbf{#1}}9</script></html>"
      ],
      "text/latex": [
       "$$\\newcommand{\\Bold}[1]{\\mathbf{#1}}9$$"
      ],
      "text/plain": [
       "9"
      ]
     },
     "metadata": {},
     "output_type": "display_data"
    },
    {
     "data": {
      "text/html": [
       "<html><script type=\"math/tex; mode=display\">\\newcommand{\\Bold}[1]{\\mathbf{#1}}6</script></html>"
      ],
      "text/latex": [
       "$$\\newcommand{\\Bold}[1]{\\mathbf{#1}}6$$"
      ],
      "text/plain": [
       "6"
      ]
     },
     "metadata": {},
     "output_type": "display_data"
    },
    {
     "name": "stdout",
     "output_type": "stream",
     "text": [
      "26\n"
     ]
    },
    {
     "data": {
      "text/html": [
       "<html><script type=\"math/tex; mode=display\">\\newcommand{\\Bold}[1]{\\mathbf{#1}}22</script></html>"
      ],
      "text/latex": [
       "$$\\newcommand{\\Bold}[1]{\\mathbf{#1}}22$$"
      ],
      "text/plain": [
       "22"
      ]
     },
     "metadata": {},
     "output_type": "display_data"
    },
    {
     "data": {
      "text/html": [
       "<html><script type=\"math/tex; mode=display\">\\newcommand{\\Bold}[1]{\\mathbf{#1}}21</script></html>"
      ],
      "text/latex": [
       "$$\\newcommand{\\Bold}[1]{\\mathbf{#1}}21$$"
      ],
      "text/plain": [
       "21"
      ]
     },
     "metadata": {},
     "output_type": "display_data"
    },
    {
     "data": {
      "text/html": [
       "<html><script type=\"math/tex; mode=display\">\\newcommand{\\Bold}[1]{\\mathbf{#1}}4</script></html>"
      ],
      "text/latex": [
       "$$\\newcommand{\\Bold}[1]{\\mathbf{#1}}4$$"
      ],
      "text/plain": [
       "4"
      ]
     },
     "metadata": {},
     "output_type": "display_data"
    },
    {
     "name": "stdout",
     "output_type": "stream",
     "text": [
      "1\n"
     ]
    },
    {
     "data": {
      "text/html": [
       "<html><script type=\"math/tex; mode=display\">\\newcommand{\\Bold}[1]{\\mathbf{#1}}26</script></html>"
      ],
      "text/latex": [
       "$$\\newcommand{\\Bold}[1]{\\mathbf{#1}}26$$"
      ],
      "text/plain": [
       "26"
      ]
     },
     "metadata": {},
     "output_type": "display_data"
    },
    {
     "data": {
      "text/plain": [
       "True"
      ]
     },
     "execution_count": 59,
     "metadata": {},
     "output_type": "execute_result"
    }
   ],
   "source": [
    "import random;\n",
    "p = 29;alpha = 2;\n",
    "l = list(range(2,p-2,1)) # create the list by  the elements 2 ,3,..29\n",
    "d = l[random.randrange(len(l))] # selecting the random element\n",
    "beta = pow(alpha,d,p)\n",
    "show(beta)\n",
    "show(d)\n",
    "x  =l[random.randrange(len(l))] #26 # message is also belong to Z_29*\n",
    "\n",
    "i = l[random.randrange(len(l))]\n",
    "\n",
    "k_e = power_mod(alpha,i,p)\n",
    "\n",
    "show(k_e)\n",
    "\n",
    "print(x)\n",
    "\n",
    "massking_key = power_mod(beta,i,p)\n",
    "show(massking_key)\n",
    "\n",
    "encryption = (x*pow(alpha,d*i,p))%p\n",
    "ciphertext = (massking_key,encryption)\n",
    "\n",
    "\n",
    "show(encryption)\n",
    "\n",
    "km_inv = pow(massking_key,-1,p)\n",
    "show(km_inv)\n",
    "\n",
    "print(pow(massking_key*km_inv,1,p))\n",
    "\n",
    "decryption = pow(encryption*km_inv,1,p)\n",
    "show(decryption)\n",
    "\n",
    "\n",
    "decryption == x\n"
   ]
  },
  {
   "cell_type": "markdown",
   "metadata": {},
   "source": [
    "### Baby steps, Giant steps"
   ]
  },
  {
   "cell_type": "markdown",
   "metadata": {},
   "source": [
    "Algorithm of Baby-Steps,Giant steps for solving discrete logarithm problem :\n",
    "\n",
    "that is we need to find $x$ such that $y = g^{x}$(mod $p)$ for an odd prime $p$. Let $m = \\lceil x \\rceil$.\n",
    "\n",
    "So, now $y = g^{x} = g^{im}\\circ g^{j}$(mod $p)$ imples that $y.g^{-i.m} = g^{j}$(mod $p$).\n",
    "\n",
    "In Baby steps, we compute $g^{j}$ for $j \\in \\{0,1,\\cdots m-1\\}$.Store it in a list,named X.\n",
    "\n",
    "In Giant steps, we compute $y.g^{-i.m}$ for $i \\in \\{0,1,\\cdots m-1\\}$.Store it in an another list,named Y.\n",
    "\n",
    "Then look for those indices $i_{0},j_{0}$ of X and Y respectively where $X[i_{0}]$ is same as $Y[j_{0}]$. Then our desired $x$ will be $x = i + j\\times m$\n",
    "\n"
   ]
  },
  {
   "cell_type": "code",
   "execution_count": 60,
   "metadata": {},
   "outputs": [],
   "source": [
    "def bs_gs(p,alpha,beta):\n",
    "    m = ceil(sqrt(p-1))\n",
    "    inv_m = power_mod(alpha,-1,p)\n",
    "    X = []\n",
    "    # baby steps\n",
    "    for j in range(m):\n",
    "        X.append(pow(alpha,j,p))\n",
    "    # giant steps\n",
    "    Y=[]\n",
    "    for i in range(m):\n",
    "        y = (22*pow(inv_m,i*m,p))%p\n",
    "        Y.append(y)    \n",
    "    X_set=set(X)  \n",
    "    Y_set=set(Y)\n",
    "    common=list(X_set.intersection(Y_set))\n",
    "    temp_X=0\n",
    "    for i in range(len(X)):\n",
    "        if X[i]==common[0]:\n",
    "            temp_X=i\n",
    "            break\n",
    "        else:\n",
    "            pass\n",
    "    \n",
    "    temp_Y=0\n",
    "    for i in range(len(Y)):\n",
    "        if Y[i]==common[0]:\n",
    "            temp_Y=i\n",
    "            break\n",
    "        else:\n",
    "            pass\n",
    "    \n",
    "    return (temp_X + m*temp_Y)%(p-1)"
   ]
  },
  {
   "cell_type": "code",
   "execution_count": 61,
   "metadata": {},
   "outputs": [
    {
     "data": {
      "text/plain": [
       "31"
      ]
     },
     "execution_count": 61,
     "metadata": {},
     "output_type": "execute_result"
    }
   ],
   "source": [
    "bs_gs(37,2,5)"
   ]
  },
  {
   "cell_type": "markdown",
   "metadata": {},
   "source": [
    "### Day  2 of seminar"
   ]
  },
  {
   "cell_type": "markdown",
   "metadata": {},
   "source": [
    "### Pollard Rho method for DLP"
   ]
  },
  {
   "cell_type": "markdown",
   "metadata": {},
   "source": [
    "In **Pollard Rho method** for **DLP(Discrete Logarithm Problem)** , First we partitioned the Group into three sets $S_{0},S_1,S_2$ of roughly equal size.\n",
    "\n",
    "For example, $1 \\notin S_1$, then by choosing $x_0 = 1$, we define a sequence of group elements $x_0,x_1,x_2,\\cdots$ by $x_{i+1} = \n",
    "\\begin{cases}\n",
    "\\alpha.x_{i} ~~~~~, x_{i} \\in S_0\\\\\n",
    "{x_{i}}^2 ~~~~~~~~, x_{i} \\in S_1\\\\\n",
    "\\beta.x_{i} ~~~~~~, x_{i} \\in S_2\n",
    "\\end{cases}$ for $i  \\ge 0$.\n",
    "\n",
    "This sequence of group elements $x_0,x_1,x_2,\\cdots$ turn out to define two more sequences of integers $a_0,a_1,\\cdots$ and $b_0,b_1,b_2,\\cdots$ satisfying $x_{i} = {\\alpha}^{a_{i}}{\\beta}^{b_{i}}$ for $i \\ge 0$.  So, $a_0 = 0, b_0 = 0$,  for $i \\ge 0$,\n",
    "$a_{i+1} = \n",
    "\\begin{cases}\n",
    "a_{i} +1 ~~~~~~, a_{i} \\in S_0\\\\\n",
    "2{a_{i}} ~~~~~~, a_{i} \\in S_1\\\\\n",
    "a_{i} ~~~~~~~~~, a_{i} \\in S_2\n",
    "\\end{cases}$\n",
    "and \n",
    "$b_{i+1} = \n",
    "\\begin{cases}\n",
    "b_{i} , b_{i} \\in S_0\\\\\n",
    "2{b_{i}} , b_{i} \\in S_1\\\\\n",
    "b_{i}+1 , x_{i} \\in S_2\n",
    "\\end{cases}$.\n",
    "\n",
    "We continue finding the finding the tripets $(x_i,a_i,b_i)$ and $x_{2i},a_{2i},b_{2i}$ until $x_i = x_{2i}$. After ending this process,let's take $g_1 = a_i - a_{2i}$ mod$(p-1)$ and $h_1 = b_{2i} - b_{i}$(mod $p-1)$.\n",
    "\n",
    "If $h_1 \\equiv 0$( mod $p-1)$, then the algorithm fails. Let it is not. Then compute $d = \\text{gcd}(h1,p-1)$ and also find $s,t$ such that $d = s.h_1 + t(p-1)$.\n",
    "\n",
    "Now, find that particular $w$ for which $g^{x} \\equiv h$(mod $p$) and $x = \\frac{su  + (p-1)w}{d}$mod ($p-1)$."
   ]
  },
  {
   "cell_type": "code",
   "execution_count": 62,
   "metadata": {},
   "outputs": [],
   "source": [
    "def Pollard_rho_dlp(g,h,p):\n",
    "    S0 = [k for k in [0..p//3]] #define the three set s0\n",
    "    S1 = [k for k in [p//3+1..2*p//3]]  #define  the set s1\n",
    "    S2 = [k for k in [2*p//3+1..p-1]]  # define the set s2\n",
    "    T1 = [1,0,0] #x0,a0,b0 i.e x_(i-1),a_(i-1),b_(i-1)\n",
    "    T2 = [1,0,0] # x_(2i-2),a_(2i-2),b_(2i-2)\n",
    "    def w(t):\n",
    "        if t[0] in S0: #t is the values  of x,a,b\n",
    "            return [(g*t[0])%p,(t[1]+1)%(p-1),t[2]] #(alpha.x,a +1 mod p-1,b)\n",
    "        elif t[0] in S1:\n",
    "            return [t[0]^2,(2*t[1])%(p-1),(2*t[2])%(p-1)] #(x^2,2a mod p-1,2b mod p-1)\n",
    "        else:\n",
    "             return [(h*t[0])%p,t[1],(t[2]+1)%(p-1)] #(beta.x, a,b+1 mod p-1)\n",
    "    \n",
    "    jo = True\n",
    "    while jo:\n",
    "        T1 = w(T1)\n",
    "        T2 = w(w(T2))\n",
    "        if T1[0] == T2[0]:\n",
    "            jo = False\n",
    "    \n",
    "    \n",
    "    g1 = (T1[1] - T2[1])%(p-1) # (a_i - a_2i) mod (p-1)\n",
    "    h1 = (T2[2]-T1[2])%(p-1) # (b_2i - b_i) mod (p-1)\n",
    "    d,s,t = xgcd(h1,p-1)\n",
    "    possibly = [((s*g1 + i*(p-1))/d)%(p-1) for i in [0..d-1]] #list of possible solutons\n",
    "    sol0= [j for j in possibly if (g^j)%p == h]\n",
    "    return sol0[0]\n",
    "    \n",
    "        "
   ]
  },
  {
   "cell_type": "code",
   "execution_count": 63,
   "metadata": {},
   "outputs": [
    {
     "data": {
      "text/plain": [
       "97"
      ]
     },
     "execution_count": 63,
     "metadata": {},
     "output_type": "execute_result"
    }
   ],
   "source": [
    "Pollard_rho_dlp(3,200,283)"
   ]
  },
  {
   "cell_type": "code",
   "execution_count": 64,
   "metadata": {},
   "outputs": [
    {
     "data": {
      "text/plain": [
       "10"
      ]
     },
     "execution_count": 64,
     "metadata": {},
     "output_type": "execute_result"
    }
   ],
   "source": [
    "Pollard_rho_dlp(2,5,1019)"
   ]
  },
  {
   "cell_type": "markdown",
   "metadata": {},
   "source": [
    "### Index calculas method"
   ]
  },
  {
   "cell_type": "markdown",
   "metadata": {},
   "source": [
    "The Index calculas algorithm is used to solve the discrete logarithm problem $a^x \\equiv b$( mod$p)$. First we fix a factor base $B = \\{p_1,p_2,\\cdots,p_{k}\\}$ containing small primes. Consider a sequence $x_1,x_2,\\cdots$ of distinct primes from the set $\\{0,1,\\cdots,p-2\\}$. \n",
    "\n",
    "Compute $a^{x_{i}}$(mod $p$).and check if the resulting value is only divisible by primes from the set $B$ i.e. $a^{x_{i}} \\equiv {p_1}^{u_{i1}}{p_2}^{u_{i2}}\\cdots{p_{k}}^{u_{ik}}$(mod $p$).If this is found, then we take `log` in both sides of the above expression,we get $x_{i} \\equiv u_{i1}log_{a}(p_1) + u_{i2}log_{a}(p_2) + \\cdots + u_{ik}log_{a}(p_k)$mod $(p-1)$.\n",
    "\n",
    "This gives a linear equation  in the unknows $log_{a}(p_1),\\cdots log_{a}(p_k)$. Here we have $k$ many unknows. So, we need to solve  the linear equations.\n",
    "\n",
    "Finally, we select random integers $m \\in \\{0,1,\\cdots,p-2\\}$ and compute $a^{m}b$ mod ($p)$, if it is divisible by primes in $B$, then $log_{a}(b) + m \\equiv m_{i1}log_{a}(p_1) + m_{i2}log_{a}(p_2) + \\cdots + m_{ik}log_{a}(p_{k})$ mod ($p-1)$. Hence,\n",
    "\n",
    "$log_{a}(b)  \\equiv m_{i1}log_{a}(p_1) + m_{i2}log_{a}(p_2) + \\cdots + m_{ik}log_{a}(p_{k}) - m$ mod ($p-1)$."
   ]
  },
  {
   "cell_type": "code",
   "execution_count": 65,
   "metadata": {},
   "outputs": [],
   "source": [
    "# B is the factor base\n",
    "def Index_calculas(a,b,p,B): # find the integer n such that b = a^n\n",
    "    S = Set([0..p-2]) #define the set 0,1,p-2\n",
    "    pd = prime_divisors(p-1) #it return the list of prime divisors\n",
    "    T = True\n",
    "    M = []\n",
    "    V =[]\n",
    "    dimM = 0\n",
    "    while T:\n",
    "        xi = S.random_element()\n",
    "        S = S.difference(Set([xi]))\n",
    "        q = [valuation((a^xi)%p,k) for k in B] #valuation(b,a) is compute for which integer n such that  a^n =b\n",
    "        if prod([k^valuation((a^xi)%p,k) for k in B]) == (a^xi)%p:\n",
    "            M0 = M + [q]\n",
    "            \n",
    "            if all(Matrix(GF(x),M0).rank() == dimM+1 for x in pd):\n",
    "                M.append(q)\n",
    "                V.append(xi)\n",
    "                dimM = dimM +1\n",
    "            else:\n",
    "                pass\n",
    "        if dimM == len(B):\n",
    "            T = False\n",
    "    LOGs = matrix(Integers(p-1),M).inverse()*vector(V)\n",
    "    S = Set([0..p-2])\n",
    "    T = True\n",
    "    while T:\n",
    "        xi = S.random_element()\n",
    "        S = S.difference(Set([xi]))\n",
    "        q = [valuation((a^xi*b)%p,k) for k in B] \n",
    "        if prod([k^valuation((a^xi*b)%p,k) for k in B]) == (a^xi*b)%p:\n",
    "            DL = (sum(q[k]*LOGs[k] for k in [0..len(q)-1]) -xi)%(p-1)\n",
    "            return DL\n",
    "        \n",
    "    "
   ]
  },
  {
   "cell_type": "code",
   "execution_count": 66,
   "metadata": {},
   "outputs": [
    {
     "data": {
      "text/plain": [
       "588"
      ]
     },
     "execution_count": 66,
     "metadata": {},
     "output_type": "execute_result"
    }
   ],
   "source": [
    "Index_calculas(3,37,1217,[2,3,5,7,11])"
   ]
  },
  {
   "cell_type": "code",
   "execution_count": 67,
   "metadata": {},
   "outputs": [
    {
     "data": {
      "text/plain": [
       "41"
      ]
     },
     "execution_count": 67,
     "metadata": {},
     "output_type": "execute_result"
    }
   ],
   "source": [
    "Index_calculas(2,37,131,[2,3,5,7])"
   ]
  },
  {
   "cell_type": "markdown",
   "metadata": {},
   "source": [
    "### Pohlig-Hellman algorithm"
   ]
  },
  {
   "cell_type": "markdown",
   "metadata": {},
   "source": [
    "Suppose we have a group $G = <g>$ such that ord(g) = N = $\\prod_{k =1}^{n}{p_K}^{e_k}$ for some primes $p_1,p_2,\\cdots,p_n$ and positive integers $e_1,e_2,\\cdots,e_n$. Our goal is to find an $x$ for which $g^x = h$. Instead of solving this , first we try to compute $x $(mod ${p_i}^{e_i}$, then apply chinese remainder theorem to obtain $x$ mod($N$). So, we need to solve DLP in\n",
    "$C_{{p_{i}}^{e_i}}$, where $C_{{p_{i}}^{e_i}}$ is the  cyclic group of order ${p_i}^{e_i}$. So, for all prime divisors of N, we get a system of congruences \n",
    "\n",
    "$x \\equiv x_1$mod(${p_1}^{e_1})$\n",
    "\n",
    "$x \\equiv x_2$mod(${p_2}^{e_2})$\n",
    "\n",
    "$\\vdots$\n",
    "\n",
    "$x \\equiv x_n$mod(${p_n}^{e_n})$\n",
    "\n",
    "By applying CRT, we get the solution for the system of linear congruence equations  $x$ mod(${p_1}^{e_1}{p_2}^{e_2}\\cdots{p_n}^{e_n}) = N$.\n",
    "\n",
    "So, we need to only solve the DLP in $C_{{p}^{e}}$. \n",
    "\n",
    "Let we want to determine $x$ for which $g^x = h$ in $C_{{p}^{e}}$. Let $x = b_0 + b_1 p + b_2 p^2 + \\cdots + b_{e-1}p^{e-1}$.\n",
    "\n",
    "In recurrent way,,let $x \\equiv b_0 + b_1 p + b_2 p^2 + \\cdots + b_{k-1}p^{k-1}$mod ($p^k)$ for $0 \\le k \\le e-1$. Then $x \\equiv x_k + b_k p^k$mod($p^{k+1})$, that means  $h = g^{x_k}(g^{p^k})^{b_k}$.\n",
    "\n",
    "Let $h_k = hg^{-x_k}$ and $g_k = g^{p^k}$. Hence, the reduced DLP is $h_k = {g_k}^{b_k}$."
   ]
  },
  {
   "cell_type": "code",
   "execution_count": 68,
   "metadata": {},
   "outputs": [],
   "source": [
    "def Pohlig_hellman(g,h,p):\n",
    "    F = GF(p) # group of finite field of order p\n",
    "    g1 = F(g) # return element g1 mod p\n",
    "    h1 = F(h) # return element h1 mod p\n",
    "    N = p-1\n",
    "    qi = [r^N.valuation(r) for r in prime_divisors(N)]\n",
    "    lqi = len(qi)\n",
    "    Nqi = [N/q for q in qi]\n",
    "    gi = [g1^r for r in Nqi]\n",
    "    hi = [h1^r for r in Nqi]\n",
    "    xi = [discrete_log(hi[i],gi[i]) for i in range(lqi)]\n",
    "    x = CRT(xi,qi)\n",
    "    return x"
   ]
  },
  {
   "cell_type": "code",
   "execution_count": 69,
   "metadata": {},
   "outputs": [
    {
     "data": {
      "text/plain": [
       "9801"
      ]
     },
     "execution_count": 69,
     "metadata": {},
     "output_type": "execute_result"
    }
   ],
   "source": [
    "Pohlig_hellman(2,33,next_prime(12344))"
   ]
  },
  {
   "cell_type": "code",
   "execution_count": null,
   "metadata": {},
   "outputs": [],
   "source": []
  },
  {
   "cell_type": "code",
   "execution_count": null,
   "metadata": {},
   "outputs": [],
   "source": []
  }
 ],
 "metadata": {
  "kernelspec": {
   "display_name": "SageMath 9.3",
   "language": "sage",
   "name": "sagemath"
  },
  "language_info": {
   "codemirror_mode": {
    "name": "ipython",
    "version": 3
   },
   "file_extension": ".py",
   "mimetype": "text/x-python",
   "name": "python",
   "nbconvert_exporter": "python",
   "pygments_lexer": "ipython3",
   "version": "3.7.10"
  }
 },
 "nbformat": 4,
 "nbformat_minor": 4
}
